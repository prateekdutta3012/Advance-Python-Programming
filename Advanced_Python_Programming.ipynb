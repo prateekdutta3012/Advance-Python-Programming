{
  "nbformat": 4,
  "nbformat_minor": 0,
  "metadata": {
    "colab": {
      "name": "Advanced Python Programming.ipynb",
      "provenance": []
    },
    "kernelspec": {
      "name": "python3",
      "display_name": "Python 3"
    },
    "language_info": {
      "name": "python"
    }
  },
  "cells": [
    {
      "cell_type": "code",
      "execution_count": null,
      "metadata": {
        "colab": {
          "base_uri": "https://localhost:8080/"
        },
        "id": "_sH4AclqQQeL",
        "outputId": "9d55dd87-0d32-4e4e-afe4-aa866b71671b"
      },
      "outputs": [
        {
          "output_type": "stream",
          "name": "stdout",
          "text": [
            "['BMW', 'Lemborgini', 'Baleno']\n",
            "[]\n",
            "[5, True, 'Baleno']\n",
            "[0, 0, 1, 1]\n"
          ]
        }
      ],
      "source": [
        "list_1 = [\"BMW\", \"Lemborgini\", \"Baleno\"]\n",
        "print(list_1)\n",
        "\n",
        "# Or create an empty list with the list function\n",
        "list_2 = list()\n",
        "print(list_2)\n",
        "\n",
        "# Lists allow different data types\n",
        "list_3 = [5, True, \"Baleno\"]\n",
        "print(list_3)\n",
        "\n",
        "# Lists allow duplicates\n",
        "list_4 = [0, 0, 1, 1]\n",
        "print(list_4)"
      ]
    },
    {
      "cell_type": "code",
      "source": [
        "#Access Elements\n",
        "\n",
        "item = list_1[0]\n",
        "print(item)\n",
        "\n",
        "item = list_1[-1]\n",
        "print(item)\n",
        "\n",
        "item = list_1[-2]\n",
        "print(item)"
      ],
      "metadata": {
        "colab": {
          "base_uri": "https://localhost:8080/"
        },
        "id": "mmHNBKE1THp2",
        "outputId": "bfeab373-f00c-4ab7-a0ba-f21b93f9875b"
      },
      "execution_count": null,
      "outputs": [
        {
          "output_type": "stream",
          "name": "stdout",
          "text": [
            "BMW\n",
            "Baleno\n",
            "Lemborgini\n"
          ]
        }
      ]
    },
    {
      "cell_type": "code",
      "source": [
        "#Change Item\n",
        "\n",
        "list_1[2] = \"Audi Q7\"\n",
        "print(list_1)"
      ],
      "metadata": {
        "colab": {
          "base_uri": "https://localhost:8080/"
        },
        "id": "PNijHwE3TVgF",
        "outputId": "ce1eb8e7-97be-4db2-a284-60606ea0a2e0"
      },
      "execution_count": null,
      "outputs": [
        {
          "output_type": "stream",
          "name": "stdout",
          "text": [
            "['BMW', 'Lemborgini', 'Audi Q7']\n"
          ]
        }
      ]
    },
    {
      "cell_type": "code",
      "source": [
        "my_list = [\"BMW\", \"Lemborgini\", \"Baleno\"]\n",
        "\n",
        "# len() : get the number of elements in a list\n",
        "print(\"Length:\", len(my_list))\n",
        "\n",
        "# append() : adds an element to the end of the list\n",
        "my_list.append(\"Creta\")\n",
        "\n",
        "# insert() : adds an element at the specified position\n",
        "my_list.insert(1, \"Land Rover\")\n",
        "print(my_list)\n",
        "\n",
        "# pop() : removes and returns the item at the given position, default is the last item\n",
        "item = my_list.pop()\n",
        "print(\"Popped item: \", item)\n",
        "\n",
        "# remove() : removes an item from the list\n",
        "my_list.remove(\"Lemborgini\") # Value error if not in the list\n",
        "print(my_list)\n",
        "\n",
        "# clear() : removes all items from the list\n",
        "my_list.clear()\n",
        "print(my_list)\n",
        "\n",
        "# reverse() : reverse the items\n",
        "my_list = [\"BMW\", \"Lemborgini\", \"Baleno\"]\n",
        "my_list.reverse()\n",
        "print('Reversed: ', my_list)\n",
        "\n",
        "# sort() : sort items in ascending order\n",
        "my_list.sort()\n",
        "print('Sorted: ', my_list)\n",
        "\n",
        "my_list = [\"BMW\", \"Lemborgini\", \"Baleno\"]\n",
        "new_list = sorted(my_list)\n",
        "\n",
        "# create list with repeated elements\n",
        "list_with_zeros = [0] * 5\n",
        "print(list_with_zeros)\n",
        "\n",
        "# concatenation\n",
        "list_concat = list_with_zeros + my_list\n",
        "print(list_concat)\n",
        "\n",
        "# convert string to list\n",
        "string_to_list = list('Over')\n",
        "print(string_to_list)"
      ],
      "metadata": {
        "colab": {
          "base_uri": "https://localhost:8080/"
        },
        "id": "_015xaEcTjZO",
        "outputId": "ef356be6-2300-4e23-8433-303124361b15"
      },
      "execution_count": null,
      "outputs": [
        {
          "output_type": "stream",
          "name": "stdout",
          "text": [
            "Length: 3\n",
            "['BMW', 'Land Rover', 'Lemborgini', 'Baleno', 'Creta']\n",
            "Popped item:  Creta\n",
            "['BMW', 'Land Rover', 'Baleno']\n",
            "[]\n",
            "Reversed:  ['Baleno', 'Lemborgini', 'BMW']\n",
            "Sorted:  ['BMW', 'Baleno', 'Lemborgini']\n",
            "[0, 0, 0, 0, 0]\n",
            "[0, 0, 0, 0, 0, 'BMW', 'Lemborgini', 'Baleno']\n",
            "['O', 'v', 'e', 'r']\n"
          ]
        }
      ]
    },
    {
      "cell_type": "code",
      "source": [
        "#Copy list\n",
        "\n",
        "list_org = [\"BMW\", \"Lemborgini\", \"Baleno\"]\n",
        "\n",
        "# this just copies the reference to the list, so be careful\n",
        "list_copy = list_org\n",
        "\n",
        "# now modifying the copy also affects the original\n",
        "list_copy.append(True)\n",
        "print(list_copy)\n",
        "print(list_org)\n",
        "\n",
        "# use copy(), or list(x) to actually copy the list\n",
        "# slicing also works: list_copy = list_org[:]\n",
        "list_org = [\"BMW\", \"Lemborgini\", \"Baleno\"]\n",
        "\n",
        "list_copy = list_org.copy()\n",
        "# list_copy = list(list_org)\n",
        "# list_copy = list_org[:]\n",
        "\n",
        "# now modifying the copy does not affect the original\n",
        "list_copy.append(True)\n",
        "print(list_copy)\n",
        "print(list_org)"
      ],
      "metadata": {
        "colab": {
          "base_uri": "https://localhost:8080/"
        },
        "id": "GFzl3pEUVtcO",
        "outputId": "fa721d3f-44db-4c8e-a444-41750815271e"
      },
      "execution_count": null,
      "outputs": [
        {
          "output_type": "stream",
          "name": "stdout",
          "text": [
            "['BMW', 'Lemborgini', 'Baleno', True]\n",
            "['BMW', 'Lemborgini', 'Baleno', True]\n",
            "['BMW', 'Lemborgini', 'Baleno', True]\n",
            "['BMW', 'Lemborgini', 'Baleno']\n"
          ]
        }
      ]
    },
    {
      "cell_type": "code",
      "source": [
        "# Iterating\n",
        "for i in list_1:\n",
        "    print(i)"
      ],
      "metadata": {
        "colab": {
          "base_uri": "https://localhost:8080/"
        },
        "id": "000KhEMEWnYU",
        "outputId": "b3face94-8fcd-4fa5-d4ec-2f179b173ada"
      },
      "execution_count": null,
      "outputs": [
        {
          "output_type": "stream",
          "name": "stdout",
          "text": [
            "BMW\n",
            "Lemborgini\n",
            "Audi Q7\n"
          ]
        }
      ]
    },
    {
      "cell_type": "code",
      "source": [
        "#Item Existing check\n",
        "if \"BMW\" in list_1:\n",
        "    print(\"yes\")\n",
        "else:\n",
        "    print(\"no\")"
      ],
      "metadata": {
        "colab": {
          "base_uri": "https://localhost:8080/"
        },
        "id": "m0b1m-NfW4DS",
        "outputId": "c7498f21-b1c3-4c1e-d018-106d566d2a7c"
      },
      "execution_count": null,
      "outputs": [
        {
          "output_type": "stream",
          "name": "stdout",
          "text": [
            "yes\n"
          ]
        }
      ]
    },
    {
      "cell_type": "code",
      "source": [
        "#Slicing\n",
        "a = [1, 2, 3, 4, 5, 6, 7, 8, 9, 10]\n",
        "b = a[1:3] # Note that the last index is not included\n",
        "print(b)\n",
        "b = a[2:] # until the end\n",
        "print(b)\n",
        "b = a[:3] # from beginning\n",
        "print(b)\n",
        "a[0:3] = [0] # replace sub-parts, you need an iterable here\n",
        "print(a)\n",
        "b = a[::2] # start to end with every second item\n",
        "print(b)\n",
        "a = a[::-1] # reverse the list with a negative step:\n",
        "print(a)\n",
        "b = a[:] # copy a list with slicing\n",
        "print(b)"
      ],
      "metadata": {
        "colab": {
          "base_uri": "https://localhost:8080/"
        },
        "id": "LWtx5tMEXCxa",
        "outputId": "6935ea27-a196-4686-fcc1-ae0950e5f78c"
      },
      "execution_count": null,
      "outputs": [
        {
          "output_type": "stream",
          "name": "stdout",
          "text": [
            "[2, 3]\n",
            "[3, 4, 5, 6, 7, 8, 9, 10]\n",
            "[1, 2, 3]\n",
            "[0, 4, 5, 6, 7, 8, 9, 10]\n",
            "[0, 5, 7, 9]\n",
            "[10, 9, 8, 7, 6, 5, 4, 0]\n",
            "[10, 9, 8, 7, 6, 5, 4, 0]\n"
          ]
        }
      ]
    },
    {
      "cell_type": "code",
      "source": [
        "#List Comprehension\n",
        "a = [1, 2, 3, 4, 5, 6, 7, 8]\n",
        "b = [i * i for i in a] # squares each element\n",
        "print(b)"
      ],
      "metadata": {
        "colab": {
          "base_uri": "https://localhost:8080/"
        },
        "id": "wY2T2d82XOAj",
        "outputId": "870d8300-6a5c-4c84-de23-38bc70a78c4c"
      },
      "execution_count": null,
      "outputs": [
        {
          "output_type": "stream",
          "name": "stdout",
          "text": [
            "[1, 4, 9, 16, 25, 36, 49, 64]\n"
          ]
        }
      ]
    },
    {
      "cell_type": "code",
      "source": [
        "#Nested List\n",
        "a = [[1, 2], [3, 4]]\n",
        "print(a)\n",
        "print(a[0])"
      ],
      "metadata": {
        "colab": {
          "base_uri": "https://localhost:8080/"
        },
        "id": "QIQQqf4bXUe8",
        "outputId": "0e4db57a-8db0-4346-b64a-c2ad84e7f2f9"
      },
      "execution_count": null,
      "outputs": [
        {
          "output_type": "stream",
          "name": "stdout",
          "text": [
            "[[1, 2], [3, 4]]\n",
            "[1, 2]\n"
          ]
        }
      ]
    },
    {
      "cell_type": "markdown",
      "source": [
        "Tuple"
      ],
      "metadata": {
        "id": "Xy8lQ5xjX-zt"
      }
    },
    {
      "cell_type": "code",
      "source": [
        "tuple_1 = (\"Max\", 28, \"New York\")\n",
        "tuple_2 = \"Linda\", 25, \"Miami\" \n",
        "tuple_3 = (25,)\n",
        "print(tuple_1)\n",
        "print(tuple_2)\n",
        "print(tuple_3)\n",
        "tuple_4 = tuple([1,2,3])\n",
        "print(tuple_4)"
      ],
      "metadata": {
        "colab": {
          "base_uri": "https://localhost:8080/"
        },
        "id": "5ImHWBzBXY7l",
        "outputId": "68cb7737-241c-4c12-bf11-60e0023df494"
      },
      "execution_count": null,
      "outputs": [
        {
          "output_type": "stream",
          "name": "stdout",
          "text": [
            "('Max', 28, 'New York')\n",
            "('Linda', 25, 'Miami')\n",
            "(25,)\n",
            "(1, 2, 3)\n"
          ]
        }
      ]
    },
    {
      "cell_type": "code",
      "source": [
        "item = tuple_1[0]\n",
        "print(item)\n",
        "item = tuple_1[-1]\n",
        "print(item)"
      ],
      "metadata": {
        "colab": {
          "base_uri": "https://localhost:8080/"
        },
        "id": "86JMPXOTYF0c",
        "outputId": "bef756fe-84f3-4cde-d0fc-4e71dacd4c6f"
      },
      "execution_count": null,
      "outputs": [
        {
          "output_type": "stream",
          "name": "stdout",
          "text": [
            "Max\n",
            "New York\n"
          ]
        }
      ]
    },
    {
      "cell_type": "code",
      "source": [
        "del tuple_2"
      ],
      "metadata": {
        "id": "HZfPsNwVYJgW"
      },
      "execution_count": null,
      "outputs": []
    },
    {
      "cell_type": "code",
      "source": [
        "# Iterating over a tuple by using a for in loop\n",
        "for i in tuple_1:\n",
        "    print(i)"
      ],
      "metadata": {
        "colab": {
          "base_uri": "https://localhost:8080/"
        },
        "id": "GR9yLIqYYQUm",
        "outputId": "acc59916-d8cc-4c39-9c3a-a44502615b98"
      },
      "execution_count": null,
      "outputs": [
        {
          "output_type": "stream",
          "name": "stdout",
          "text": [
            "Max\n",
            "28\n",
            "New York\n"
          ]
        }
      ]
    },
    {
      "cell_type": "code",
      "source": [
        "if \"New York\" in tuple_1:\n",
        "    print(\"yes\")\n",
        "else:\n",
        "    print(\"no\")"
      ],
      "metadata": {
        "colab": {
          "base_uri": "https://localhost:8080/"
        },
        "id": "wQ3hUc9kYg9w",
        "outputId": "435308b2-c718-479c-986e-cee622f30403"
      },
      "execution_count": null,
      "outputs": [
        {
          "output_type": "stream",
          "name": "stdout",
          "text": [
            "yes\n"
          ]
        }
      ]
    },
    {
      "cell_type": "code",
      "source": [
        "my_tuple = ('a','p','p','l','e',)\n",
        "\n",
        "# len() : get the number of elements in a tuple\n",
        "print(len(my_tuple))\n",
        "\n",
        "# count(x) : Return the number of items that is equal to x\n",
        "print(my_tuple.count('p'))\n",
        "\n",
        "# index(x) : Return index of first item that is equal to x\n",
        "print(my_tuple.index('l'))\n",
        "\n",
        "# repetition\n",
        "my_tuple = ('a', 'b') * 5\n",
        "print(my_tuple)\n",
        "\n",
        "# concatenation\n",
        "my_tuple = (1,2,3) + (4,5,6)\n",
        "print(my_tuple)\n",
        "\n",
        "# convert list to a tuple and vice versa\n",
        "my_list = ['a', 'b', 'c', 'd']\n",
        "list_to_tuple = tuple(my_list)\n",
        "print(list_to_tuple)\n",
        "\n",
        "tuple_to_list = list(list_to_tuple)\n",
        "print(tuple_to_list)\n",
        "\n",
        "# convert string to tuple\n",
        "string_to_tuple = tuple('Hello')\n",
        "print(string_to_tuple)"
      ],
      "metadata": {
        "colab": {
          "base_uri": "https://localhost:8080/"
        },
        "id": "kWd_1iiLYk9_",
        "outputId": "99bc68ab-5fe7-473e-a7bc-1b573c62e46d"
      },
      "execution_count": null,
      "outputs": [
        {
          "output_type": "stream",
          "name": "stdout",
          "text": [
            "5\n",
            "2\n",
            "3\n",
            "('a', 'b', 'a', 'b', 'a', 'b', 'a', 'b', 'a', 'b')\n",
            "(1, 2, 3, 4, 5, 6)\n",
            "('a', 'b', 'c', 'd')\n",
            "['a', 'b', 'c', 'd']\n",
            "('H', 'e', 'l', 'l', 'o')\n"
          ]
        }
      ]
    },
    {
      "cell_type": "code",
      "source": [
        "# a[start:stop:step], default step is 1\n",
        "a = (1, 2, 3, 4, 5, 6, 7, 8, 9, 10)\n",
        "b = a[1:3] # Note that the last index is not included\n",
        "print(b)\n",
        "b = a[2:] # until the end\n",
        "print(b)\n",
        "b = a[:3] # from beginning\n",
        "print(b)\n",
        "b = a[::2] # start to end with every second item\n",
        "print(b)\n",
        "b = a[::-1] # reverse tuple\n",
        "print(b)"
      ],
      "metadata": {
        "colab": {
          "base_uri": "https://localhost:8080/"
        },
        "id": "M6MgynI3YomW",
        "outputId": "bf8c6916-6048-4851-c53a-abb54f803a1d"
      },
      "execution_count": null,
      "outputs": [
        {
          "output_type": "stream",
          "name": "stdout",
          "text": [
            "(2, 3)\n",
            "(3, 4, 5, 6, 7, 8, 9, 10)\n",
            "(1, 2, 3)\n",
            "(1, 3, 5, 7, 9)\n",
            "(10, 9, 8, 7, 6, 5, 4, 3, 2, 1)\n"
          ]
        }
      ]
    },
    {
      "cell_type": "code",
      "source": [
        "# number of variables have to match number of tuple elements\n",
        "tuple_1 = (\"Max\", 28, \"New York\")\n",
        "name, age, city = tuple_1\n",
        "print(name)\n",
        "print(age)\n",
        "print(city)\n",
        "\n",
        "# tip: unpack multiple elements to a list with *\n",
        "my_tuple = (0, 1, 2, 3, 4, 5)\n",
        "item_first, *items_between, item_last = my_tuple\n",
        "print(item_first)\n",
        "print(items_between)\n",
        "print(item_last)"
      ],
      "metadata": {
        "colab": {
          "base_uri": "https://localhost:8080/"
        },
        "id": "81ViWzFGYr12",
        "outputId": "3e60b4f6-1eb9-49b2-be3a-56f5c650c180"
      },
      "execution_count": null,
      "outputs": [
        {
          "output_type": "stream",
          "name": "stdout",
          "text": [
            "Max\n",
            "28\n",
            "New York\n",
            "0\n",
            "[1, 2, 3, 4]\n",
            "5\n"
          ]
        }
      ]
    },
    {
      "cell_type": "code",
      "source": [
        "a = ((0, 1), ('age', 'height'))\n",
        "print(a)\n",
        "print(a[0])"
      ],
      "metadata": {
        "colab": {
          "base_uri": "https://localhost:8080/"
        },
        "id": "zofic9WYYuOw",
        "outputId": "3831ea30-d6bf-4937-bb5b-9ef25f63742e"
      },
      "execution_count": null,
      "outputs": [
        {
          "output_type": "stream",
          "name": "stdout",
          "text": [
            "((0, 1), ('age', 'height'))\n",
            "(0, 1)\n"
          ]
        }
      ]
    },
    {
      "cell_type": "code",
      "source": [
        "# compare the size\n",
        "import sys\n",
        "my_list = [0, 1, 2, \"hello\", True]\n",
        "my_tuple = (0, 1, 2, \"hello\", True)\n",
        "print(sys.getsizeof(my_list), \"bytes\")\n",
        "print(sys.getsizeof(my_tuple), \"bytes\")\n",
        "\n",
        "# compare the execution time of a list vs. tuple creation statement\n",
        "import timeit\n",
        "print(timeit.timeit(stmt=\"[0, 1, 2, 3, 4, 5]\", number=1000000))\n",
        "print(timeit.timeit(stmt=\"(0, 1, 2, 3, 4, 5)\", number=1000000))"
      ],
      "metadata": {
        "colab": {
          "base_uri": "https://localhost:8080/"
        },
        "id": "RKTRsflhY5AF",
        "outputId": "0d26b100-6f37-4328-d641-10ccf2c7433c"
      },
      "execution_count": null,
      "outputs": [
        {
          "output_type": "stream",
          "name": "stdout",
          "text": [
            "112 bytes\n",
            "96 bytes\n",
            "0.08067114999994374\n",
            "0.012866174999999203\n"
          ]
        }
      ]
    },
    {
      "cell_type": "markdown",
      "source": [
        "Dictionaries"
      ],
      "metadata": {
        "id": "JGcema0xZgKF"
      }
    },
    {
      "cell_type": "code",
      "source": [
        "my_dict = {\"name\":\"Max\", \"age\":28, \"city\":\"New York\"}\n",
        "print(my_dict)\n",
        "\n",
        "# or use the dict constructor, note: no quotes necessary for keys\n",
        "my_dict_2 = dict(name=\"Lisa\", age=27, city=\"Boston\")\n",
        "print(my_dict_2)"
      ],
      "metadata": {
        "colab": {
          "base_uri": "https://localhost:8080/"
        },
        "id": "xL9xYn51Y9N-",
        "outputId": "7114bd5d-3606-4939-9a6e-0b4e63386a88"
      },
      "execution_count": null,
      "outputs": [
        {
          "output_type": "stream",
          "name": "stdout",
          "text": [
            "{'name': 'Max', 'age': 28, 'city': 'New York'}\n",
            "{'name': 'Lisa', 'age': 27, 'city': 'Boston'}\n"
          ]
        }
      ]
    },
    {
      "cell_type": "code",
      "source": [
        "name_in_dict = my_dict[\"name\"]\n",
        "print(name_in_dict)"
      ],
      "metadata": {
        "colab": {
          "base_uri": "https://localhost:8080/"
        },
        "id": "sLFI2fB4ZjZf",
        "outputId": "404a7d4a-0324-4145-9ac9-396314240bbc"
      },
      "execution_count": null,
      "outputs": [
        {
          "output_type": "stream",
          "name": "stdout",
          "text": [
            "Max\n"
          ]
        }
      ]
    },
    {
      "cell_type": "code",
      "source": [
        "# add a new key\n",
        "my_dict[\"email\"] = \"max@xyz.com\"\n",
        "print(my_dict)\n",
        "\n",
        "# or overwrite the now existing key\n",
        "my_dict[\"email\"] = \"coolmax@xyz.com\"\n",
        "print(my_dict)"
      ],
      "metadata": {
        "colab": {
          "base_uri": "https://localhost:8080/"
        },
        "id": "yVH7UE3baFQ4",
        "outputId": "d2f23038-c5b2-4579-dc0f-2fa29fcaa64a"
      },
      "execution_count": null,
      "outputs": [
        {
          "output_type": "stream",
          "name": "stdout",
          "text": [
            "{'name': 'Max', 'age': 28, 'city': 'New York', 'email': 'max@xyz.com'}\n",
            "{'name': 'Max', 'age': 28, 'city': 'New York', 'email': 'coolmax@xyz.com'}\n"
          ]
        }
      ]
    },
    {
      "cell_type": "code",
      "source": [
        "# delete a key-value pair\n",
        "del my_dict[\"email\"]\n",
        "\n",
        "# this returns the value and removes the key-value pair\n",
        "print(\"popped value:\", my_dict.pop(\"age\"))\n",
        "\n",
        "# return and removes the last inserted key-value pair \n",
        "# (in versions before Python 3.7 it removes an arbitrary pair)\n",
        "print(\"popped item:\", my_dict.popitem())\n",
        "\n",
        "print(my_dict)\n",
        "\n",
        "# clear() : remove all pairs\n",
        "# my_dict.clear()"
      ],
      "metadata": {
        "colab": {
          "base_uri": "https://localhost:8080/"
        },
        "id": "UvDLhwHXaOdo",
        "outputId": "dacf89ff-30f0-46d0-f039-aa4210c15d34"
      },
      "execution_count": null,
      "outputs": [
        {
          "output_type": "stream",
          "name": "stdout",
          "text": [
            "popped value: 28\n",
            "popped item: ('city', 'New York')\n",
            "{'name': 'Max'}\n"
          ]
        }
      ]
    },
    {
      "cell_type": "code",
      "source": [
        "my_dict = {\"name\":\"Max\", \"age\":28, \"city\":\"New York\"}\n",
        "# use if .. in ..\n",
        "if \"name\" in my_dict:\n",
        "    print(my_dict[\"name\"])\n",
        "\n",
        "# use try except\n",
        "try:\n",
        "    print(my_dict[\"firstname\"])\n",
        "except KeyError:\n",
        "    print(\"No key found\")  "
      ],
      "metadata": {
        "colab": {
          "base_uri": "https://localhost:8080/"
        },
        "id": "MWVvtgy4aRwR",
        "outputId": "2224c518-2023-4adf-e572-61980411da90"
      },
      "execution_count": null,
      "outputs": [
        {
          "output_type": "stream",
          "name": "stdout",
          "text": [
            "Max\n",
            "No key found\n"
          ]
        }
      ]
    },
    {
      "cell_type": "code",
      "source": [
        "# loop over keys\n",
        "for key in my_dict:\n",
        "    print(key, my_dict[key])\n",
        "\n",
        "# loop over keys\n",
        "for key in my_dict.keys():\n",
        "    print(key)\n",
        "\n",
        "# loop over values\n",
        "for value in my_dict.values():\n",
        "    print(value)\n",
        "\n",
        "# loop over keys and values\n",
        "for key, value in my_dict.items():\n",
        "    print(key, value)"
      ],
      "metadata": {
        "colab": {
          "base_uri": "https://localhost:8080/"
        },
        "id": "NeuCcK80aVG8",
        "outputId": "eba97a80-2d7b-4b59-da56-741fa68e0feb"
      },
      "execution_count": null,
      "outputs": [
        {
          "output_type": "stream",
          "name": "stdout",
          "text": [
            "name Max\n",
            "age 28\n",
            "city New York\n",
            "name\n",
            "age\n",
            "city\n",
            "Max\n",
            "28\n",
            "New York\n",
            "name Max\n",
            "age 28\n",
            "city New York\n"
          ]
        }
      ]
    },
    {
      "cell_type": "code",
      "source": [
        "dict_org = {\"name\":\"Max\", \"age\":28, \"city\":\"New York\"}\n",
        "\n",
        "# this just copies the reference to the dict, so be careful\n",
        "dict_copy = dict_org\n",
        "\n",
        "# now modifying the copy also affects the original\n",
        "dict_copy[\"name\"] = \"Lisa\"\n",
        "print(dict_copy)\n",
        "print(dict_org)\n",
        "\n",
        "# use copy(), or dict(x) to actually copy the dict\n",
        "dict_org = {\"name\":\"Max\", \"age\":28, \"city\":\"New York\"}\n",
        "\n",
        "dict_copy = dict_org.copy()\n",
        "# dict_copy = dict(dict_org)\n",
        "\n",
        "# now modifying the copy does not affect the original\n",
        "dict_copy[\"name\"] = \"Lisa\"\n",
        "print(dict_copy)\n",
        "print(dict_org)"
      ],
      "metadata": {
        "colab": {
          "base_uri": "https://localhost:8080/"
        },
        "id": "LyjHSPy2aYao",
        "outputId": "c0c87753-bcfb-4ba3-a4a1-62387e0b2dc1"
      },
      "execution_count": null,
      "outputs": [
        {
          "output_type": "stream",
          "name": "stdout",
          "text": [
            "{'name': 'Lisa', 'age': 28, 'city': 'New York'}\n",
            "{'name': 'Lisa', 'age': 28, 'city': 'New York'}\n",
            "{'name': 'Lisa', 'age': 28, 'city': 'New York'}\n",
            "{'name': 'Max', 'age': 28, 'city': 'New York'}\n"
          ]
        }
      ]
    },
    {
      "cell_type": "code",
      "source": [
        "# Use the update() method to merge 2 dicts\n",
        "# existing keys are overwritten, new keys are added\n",
        "my_dict = {\"name\":\"Max\", \"age\":28, \"email\":\"max@xyz.com\"}\n",
        "my_dict_2 = dict(name=\"Lisa\", age=27, city=\"Boston\")\n",
        "\n",
        "my_dict.update(my_dict_2)\n",
        "print(my_dict)"
      ],
      "metadata": {
        "colab": {
          "base_uri": "https://localhost:8080/"
        },
        "id": "im8027KdacGo",
        "outputId": "d177147a-b804-41d3-89d0-79f9f65d4429"
      },
      "execution_count": null,
      "outputs": [
        {
          "output_type": "stream",
          "name": "stdout",
          "text": [
            "{'name': 'Lisa', 'age': 27, 'email': 'max@xyz.com', 'city': 'Boston'}\n"
          ]
        }
      ]
    },
    {
      "cell_type": "code",
      "source": [
        "# use numbers as key, but be careful\n",
        "my_dict = {3: 9, 6: 36, 9:81}\n",
        "# do not mistake the keys as indices of a list, e.g my_dict[0] is not possible here\n",
        "print(my_dict[3], my_dict[6], my_dict[9])\n",
        "\n",
        "# use a tuple with immutable elements (e.g. number, string)\n",
        "my_tuple = (8, 7)\n",
        "my_dict = {my_tuple: 15}\n",
        "\n",
        "print(my_dict[my_tuple])"
      ],
      "metadata": {
        "colab": {
          "base_uri": "https://localhost:8080/"
        },
        "id": "gMdN4FCzafqg",
        "outputId": "d85a39b8-da9f-4896-f30a-979d6eef9dae"
      },
      "execution_count": null,
      "outputs": [
        {
          "output_type": "stream",
          "name": "stdout",
          "text": [
            "9 36 81\n",
            "15\n"
          ]
        }
      ]
    },
    {
      "cell_type": "code",
      "source": [
        "my_dict_1 = {\"name\": \"Max\", \"age\": 28}\n",
        "my_dict_2 = {\"name\": \"Alex\", \"age\": 25}\n",
        "nested_dict = {\"dictA\": my_dict_1,\n",
        "               \"dictB\": my_dict_2}\n",
        "print(nested_dict)"
      ],
      "metadata": {
        "colab": {
          "base_uri": "https://localhost:8080/"
        },
        "id": "MzGNschAampQ",
        "outputId": "a8f4574c-902c-4efa-c082-5c0661e4c503"
      },
      "execution_count": null,
      "outputs": [
        {
          "output_type": "stream",
          "name": "stdout",
          "text": [
            "{'dictA': {'name': 'Max', 'age': 28}, 'dictB': {'name': 'Alex', 'age': 25}}\n"
          ]
        }
      ]
    },
    {
      "cell_type": "markdown",
      "source": [
        "Sets"
      ],
      "metadata": {
        "id": "6Vx0WvH-asyy"
      }
    },
    {
      "cell_type": "code",
      "source": [
        "my_set = {\"apple\", \"banana\", \"cherry\"}\n",
        "print(my_set)\n",
        "\n",
        "# or use the set function and create from an iterable, e.g. list, tuple, string\n",
        "my_set_2 = set([\"one\", \"two\", \"three\"])\n",
        "my_set_2 = set((\"one\", \"two\", \"three\"))\n",
        "print(my_set_2)\n",
        "\n",
        "my_set_3 = set(\"aaabbbcccdddeeeeeffff\")\n",
        "print(my_set_3)\n",
        "\n",
        "a = {}\n",
        "print(type(a))\n",
        "a = set()\n",
        "print(type(a))"
      ],
      "metadata": {
        "colab": {
          "base_uri": "https://localhost:8080/"
        },
        "id": "-HNoO1iParU4",
        "outputId": "b73a8c3c-6194-495e-e2a2-c51c6825decb"
      },
      "execution_count": null,
      "outputs": [
        {
          "output_type": "stream",
          "name": "stdout",
          "text": [
            "{'banana', 'apple', 'cherry'}\n",
            "{'one', 'two', 'three'}\n",
            "{'d', 'b', 'e', 'f', 'a', 'c'}\n",
            "<class 'dict'>\n",
            "<class 'set'>\n"
          ]
        }
      ]
    },
    {
      "cell_type": "code",
      "source": [
        "my_set = set()\n",
        "\n",
        "# use the add() method to add elements\n",
        "my_set.add(42)\n",
        "my_set.add(True)\n",
        "my_set.add(\"Hello\")\n",
        "\n",
        "# note: the order does not matter, and might differ when printed\n",
        "print(my_set)\n",
        "\n",
        "# nothing happens when the element is already present:\n",
        "my_set.add(42)\n",
        "print(my_set)"
      ],
      "metadata": {
        "colab": {
          "base_uri": "https://localhost:8080/"
        },
        "id": "XYuhqW62a6UA",
        "outputId": "fe48957e-4265-46c2-fbcb-f2e91f9f068c"
      },
      "execution_count": null,
      "outputs": [
        {
          "output_type": "stream",
          "name": "stdout",
          "text": [
            "{True, 42, 'Hello'}\n",
            "{True, 42, 'Hello'}\n"
          ]
        }
      ]
    },
    {
      "cell_type": "code",
      "source": [
        "my_set = {\"apple\", \"banana\", \"cherry\"}\n",
        "my_set.remove(\"apple\")\n",
        "print(my_set)\n",
        "\n",
        "# KeyError:\n",
        "# my_set.remove(\"orange\")\n",
        "\n",
        "# discard(x): removes x, does nothing if element is not present\n",
        "my_set.discard(\"cherry\")\n",
        "my_set.discard(\"blueberry\")\n",
        "print(my_set)\n",
        "\n",
        "# clear() : remove all elements\n",
        "my_set.clear()\n",
        "print(my_set)\n",
        "\n",
        "# pop() : return and remove a random element\n",
        "a = {True, 2, False, \"hi\", \"hello\"}\n",
        "print(a.pop())\n",
        "print(a)"
      ],
      "metadata": {
        "colab": {
          "base_uri": "https://localhost:8080/"
        },
        "id": "bFDbyjnKa8_R",
        "outputId": "91cc69c4-88b7-478f-bd04-a0dc4f68bbac"
      },
      "execution_count": null,
      "outputs": [
        {
          "output_type": "stream",
          "name": "stdout",
          "text": [
            "{'banana', 'cherry'}\n",
            "{'banana'}\n",
            "set()\n",
            "False\n",
            "{True, 2, 'hi', 'hello'}\n"
          ]
        }
      ]
    },
    {
      "cell_type": "code",
      "source": [
        "my_set = {\"apple\", \"banana\", \"cherry\"}\n",
        "if \"apple\" in my_set:\n",
        "    print(\"yes\")"
      ],
      "metadata": {
        "colab": {
          "base_uri": "https://localhost:8080/"
        },
        "id": "hqHSzdXTbEdh",
        "outputId": "6d15538e-0440-4ef6-fa79-5099282f7a17"
      },
      "execution_count": null,
      "outputs": [
        {
          "output_type": "stream",
          "name": "stdout",
          "text": [
            "yes\n"
          ]
        }
      ]
    },
    {
      "cell_type": "code",
      "source": [
        "my_set = {\"apple\", \"banana\", \"cherry\"}\n",
        "for i in my_set:\n",
        "    print(i)"
      ],
      "metadata": {
        "colab": {
          "base_uri": "https://localhost:8080/"
        },
        "id": "7bThBlnXbJmx",
        "outputId": "b11f7557-8b1c-4efd-b278-8a0aeb3fe188"
      },
      "execution_count": null,
      "outputs": [
        {
          "output_type": "stream",
          "name": "stdout",
          "text": [
            "banana\n",
            "apple\n",
            "cherry\n"
          ]
        }
      ]
    },
    {
      "cell_type": "code",
      "source": [
        "odds = {1, 3, 5, 7, 9}\n",
        "evens = {0, 2, 4, 6, 8}\n",
        "primes = {2, 3, 5, 7}\n",
        "\n",
        "u = odds.union(evens)\n",
        "print(u)\n",
        "\n",
        "i = odds.intersection(evens)\n",
        "print(i)\n",
        "\n",
        "i = odds.intersection(primes)\n",
        "print(i)\n",
        "\n",
        "i = evens.intersection(primes)\n",
        "print(i)"
      ],
      "metadata": {
        "colab": {
          "base_uri": "https://localhost:8080/"
        },
        "id": "uESGdfzGbKuR",
        "outputId": "eb7a2bf3-5770-4bf5-efd1-ab59fc01f642"
      },
      "execution_count": null,
      "outputs": [
        {
          "output_type": "stream",
          "name": "stdout",
          "text": [
            "{0, 1, 2, 3, 4, 5, 6, 7, 8, 9}\n",
            "set()\n",
            "{3, 5, 7}\n",
            "{2}\n"
          ]
        }
      ]
    },
    {
      "cell_type": "code",
      "source": [
        "setA = {1, 2, 3, 4, 5, 6, 7, 8, 9}\n",
        "setB = {1, 2, 3, 10, 11, 12}\n",
        "\n",
        "# difference() : returns a set with all the elements from the setA that are not in setB.\n",
        "diff_set = setA.difference(setB)\n",
        "print(diff_set)\n",
        "\n",
        "# A.difference(B) is not the same as B.difference(A)\n",
        "diff_set = setB.difference(setA)\n",
        "print(diff_set)\n",
        "\n",
        "# symmetric_difference() : returns a set with all the elements that are in setA and setB but not in both\n",
        "diff_set = setA.symmetric_difference(setB)\n",
        "print(diff_set)\n",
        "\n",
        "# A.symmetric_difference(B) = B.symmetric_difference(A)\n",
        "diff_set = setB.symmetric_difference(setA)\n",
        "print(diff_set)"
      ],
      "metadata": {
        "colab": {
          "base_uri": "https://localhost:8080/"
        },
        "id": "bh9n-yA5bTgP",
        "outputId": "6759151c-2fb0-4fa1-b44e-6af0912f3ecb"
      },
      "execution_count": null,
      "outputs": [
        {
          "output_type": "stream",
          "name": "stdout",
          "text": [
            "{4, 5, 6, 7, 8, 9}\n",
            "{10, 11, 12}\n",
            "{4, 5, 6, 7, 8, 9, 10, 11, 12}\n",
            "{4, 5, 6, 7, 8, 9, 10, 11, 12}\n"
          ]
        }
      ]
    },
    {
      "cell_type": "code",
      "source": [
        "setA = {1, 2, 3, 4, 5, 6, 7, 8, 9}\n",
        "setB = {1, 2, 3, 10, 11, 12}\n",
        "\n",
        "# update() : Update the set by adding elements from another set.\n",
        "setA.update(setB)\n",
        "print(setA)\n",
        "\n",
        "# intersection_update() : Update the set by keeping only the elements found in both\n",
        "setA = {1, 2, 3, 4, 5, 6, 7, 8, 9}\n",
        "setA.intersection_update(setB)\n",
        "print(setA)\n",
        "\n",
        "# difference_update() : Update the set by removing elements found in another set.\n",
        "setA = {1, 2, 3, 4, 5, 6, 7, 8, 9}\n",
        "setA.difference_update(setB)\n",
        "print(setA)\n",
        "\n",
        "# symmetric_difference_update() : Update the set by only keeping the elements found in either set, but not in both\n",
        "setA = {1, 2, 3, 4, 5, 6, 7, 8, 9}\n",
        "setA.symmetric_difference_update(setB)\n",
        "print(setA)\n"
      ],
      "metadata": {
        "colab": {
          "base_uri": "https://localhost:8080/"
        },
        "id": "6cQZQ3bnbUGf",
        "outputId": "d2f8a765-f13c-4142-8593-71e9ef5425e9"
      },
      "execution_count": null,
      "outputs": [
        {
          "output_type": "stream",
          "name": "stdout",
          "text": [
            "{1, 2, 3, 4, 5, 6, 7, 8, 9, 10, 11, 12}\n",
            "{1, 2, 3}\n",
            "{4, 5, 6, 7, 8, 9}\n",
            "{4, 5, 6, 7, 8, 9, 10, 11, 12}\n"
          ]
        }
      ]
    },
    {
      "cell_type": "code",
      "source": [
        "set_org = {1, 2, 3, 4, 5}\n",
        "\n",
        "# this just copies the reference to the set, so be careful\n",
        "set_copy = set_org\n",
        "\n",
        "# now modifying the copy also affects the original\n",
        "set_copy.update([3, 4, 5, 6, 7])\n",
        "print(set_copy)\n",
        "print(set_org)\n",
        "\n",
        "# use copy() to actually copy the set\n",
        "set_org = {1, 2, 3, 4, 5}\n",
        "set_copy = set_org.copy()\n",
        "\n",
        "# now modifying the copy does not affect the original\n",
        "set_copy.update([3, 4, 5, 6, 7])\n",
        "print(set_copy)\n",
        "print(set_org)"
      ],
      "metadata": {
        "colab": {
          "base_uri": "https://localhost:8080/"
        },
        "id": "lGJDBMWkbW8v",
        "outputId": "83b9d6b3-35a3-4383-d7d0-4f5235e8117e"
      },
      "execution_count": null,
      "outputs": [
        {
          "output_type": "stream",
          "name": "stdout",
          "text": [
            "{1, 2, 3, 4, 5, 6, 7}\n",
            "{1, 2, 3, 4, 5, 6, 7}\n",
            "{1, 2, 3, 4, 5, 6, 7}\n",
            "{1, 2, 3, 4, 5}\n"
          ]
        }
      ]
    },
    {
      "cell_type": "code",
      "source": [
        "setA = {1, 2, 3, 4, 5, 6}\n",
        "setB = {1, 2, 3}\n",
        "# issubset(setX): Returns True if setX contains the set\n",
        "print(setA.issubset(setB))\n",
        "print(setB.issubset(setA)) # True\n",
        "\n",
        "# issuperset(setX): Returns True if the set contains setX\n",
        "print(setA.issuperset(setB)) # True\n",
        "print(setB.issuperset(setA))\n",
        "\n",
        "# isdisjoint(setX) : Return True if both sets have a null intersection, i.e. no same elements\n",
        "setC = {7, 8, 9}\n",
        "print(setA.isdisjoint(setB))\n",
        "print(setA.isdisjoint(setC))"
      ],
      "metadata": {
        "colab": {
          "base_uri": "https://localhost:8080/"
        },
        "id": "Cs98tEjDbZ7P",
        "outputId": "1cb6f1db-ac88-4963-c31a-94e220be12e0"
      },
      "execution_count": null,
      "outputs": [
        {
          "output_type": "stream",
          "name": "stdout",
          "text": [
            "False\n",
            "True\n",
            "True\n",
            "False\n",
            "False\n",
            "True\n"
          ]
        }
      ]
    },
    {
      "cell_type": "code",
      "source": [
        "#Frozenset\n",
        "\n",
        "a = frozenset([0, 1, 2, 3, 4])\n",
        "odds = frozenset({1, 3, 5, 7, 9})\n",
        "evens = frozenset({0, 2, 4, 6, 8})\n",
        "print(odds.union(evens))\n",
        "print(odds.intersection(evens))\n",
        "print(odds.difference(evens))"
      ],
      "metadata": {
        "colab": {
          "base_uri": "https://localhost:8080/"
        },
        "id": "OPT-PeYebcnH",
        "outputId": "847d43d1-53a7-4b90-8b6e-82d7acff7f92"
      },
      "execution_count": null,
      "outputs": [
        {
          "output_type": "stream",
          "name": "stdout",
          "text": [
            "frozenset({0, 1, 2, 3, 4, 5, 6, 7, 8, 9})\n",
            "frozenset()\n",
            "frozenset({1, 3, 5, 7, 9})\n"
          ]
        }
      ]
    },
    {
      "cell_type": "markdown",
      "source": [
        "Strings"
      ],
      "metadata": {
        "id": "ffh6flmub9Cb"
      }
    },
    {
      "cell_type": "code",
      "source": [
        "my_string = 'Hello'\n",
        "my_string = \"Hello\"\n",
        "my_string = \"I' m  a 'Geek'\"\n",
        "\n",
        "# escaping backslash\n",
        "my_string = 'I\\' m  a \"Geek\"'\n",
        "my_string = 'I\\' m a \\'Geek\\''\n",
        "print(my_string)\n",
        "\n",
        "# triple quotes for multiline strings\n",
        "my_string = \"\"\"Hello\n",
        "World\"\"\"\n",
        "print(my_string)\n",
        "\n",
        "# backslash if you want to continue in the next line\n",
        "my_string = \"Hello \\\n",
        "World\"\n",
        "print(my_string)\n"
      ],
      "metadata": {
        "colab": {
          "base_uri": "https://localhost:8080/"
        },
        "id": "Bsj_zVN_br5C",
        "outputId": "3dbcd5b8-8a65-483f-8e30-7a2e85a82e2c"
      },
      "execution_count": null,
      "outputs": [
        {
          "output_type": "stream",
          "name": "stdout",
          "text": [
            "I' m a 'Geek'\n",
            "Hello\n",
            "World\n",
            "Hello World\n"
          ]
        }
      ]
    },
    {
      "cell_type": "code",
      "source": [
        "my_string = \"Hello World\"\n",
        "\n",
        "# get character by referring to index\n",
        "b = my_string[0]\n",
        "print(b)\n",
        "\n",
        "# Substrings with slicing\n",
        "b = my_string[1:3] # Note that the last index is not included\n",
        "print(b)\n",
        "b = my_string[:5] # from beginning\n",
        "print(b)\n",
        "b = my_string[6:] # until the end\n",
        "print(b)\n",
        "b = my_string[::2] # start to end with every second item\n",
        "print(b)\n",
        "b = my_string[::-1] # reverse the string with a negative step:\n",
        "print(b)"
      ],
      "metadata": {
        "colab": {
          "base_uri": "https://localhost:8080/"
        },
        "id": "eOeizYf_cbAD",
        "outputId": "07a971d5-7827-43c7-e265-2472a59c50af"
      },
      "execution_count": null,
      "outputs": [
        {
          "output_type": "stream",
          "name": "stdout",
          "text": [
            "H\n",
            "el\n",
            "Hello\n",
            "World\n",
            "HloWrd\n",
            "dlroW olleH\n"
          ]
        }
      ]
    },
    {
      "cell_type": "code",
      "source": [
        "# concat strings with +\n",
        "greeting = \"Hello\"\n",
        "name = \"Tom\"\n",
        "sentence = greeting + ' ' + name\n",
        "print(sentence)"
      ],
      "metadata": {
        "colab": {
          "base_uri": "https://localhost:8080/"
        },
        "id": "uSfevYFVebW1",
        "outputId": "503f9d59-9f59-4e74-92c2-c49cc5e98787"
      },
      "execution_count": null,
      "outputs": [
        {
          "output_type": "stream",
          "name": "stdout",
          "text": [
            "Hello Tom\n"
          ]
        }
      ]
    },
    {
      "cell_type": "code",
      "source": [
        "# Iterating over a string by using a for in loop\n",
        "my_string = 'Hello'\n",
        "for i in my_string:\n",
        "    print(i)"
      ],
      "metadata": {
        "colab": {
          "base_uri": "https://localhost:8080/"
        },
        "id": "V_nYJpr7egS3",
        "outputId": "9adae784-6892-4d26-d15f-89f3a3260c4f"
      },
      "execution_count": null,
      "outputs": [
        {
          "output_type": "stream",
          "name": "stdout",
          "text": [
            "H\n",
            "e\n",
            "l\n",
            "l\n",
            "o\n"
          ]
        }
      ]
    },
    {
      "cell_type": "code",
      "source": [
        "if \"e\" in \"Hello\":\n",
        "    print(\"yes\")\n",
        "if \"llo\" in \"Hello\":\n",
        "    print(\"yes\")"
      ],
      "metadata": {
        "colab": {
          "base_uri": "https://localhost:8080/"
        },
        "id": "-rQbj4SEeimu",
        "outputId": "1782e0c7-2182-4796-8a9a-7957f4400f7f"
      },
      "execution_count": null,
      "outputs": [
        {
          "output_type": "stream",
          "name": "stdout",
          "text": [
            "yes\n",
            "yes\n"
          ]
        }
      ]
    },
    {
      "cell_type": "code",
      "source": [
        "my_string = \"     Hello World \"\n",
        "\n",
        "# remove white space\n",
        "my_string = my_string.strip()\n",
        "print(my_string)\n",
        "\n",
        "# number of characters\n",
        "print(len(my_string))\n",
        "\n",
        "# Upper and lower cases\n",
        "print(my_string.upper())\n",
        "print(my_string.lower())\n",
        "\n",
        "# startswith and endswith\n",
        "print(\"hello\".startswith(\"he\"))\n",
        "print(\"hello\".endswith(\"llo\"))\n",
        "\n",
        "# find first index of a given substring, -1 otherwise\n",
        "print(\"Hello\".find(\"o\"))\n",
        "\n",
        "# count number of characters/substrings\n",
        "print(\"Hello\".count(\"e\"))\n",
        "\n",
        "message = \"Hello World\"\n",
        "new_message = message.replace(\"World\", \"Universe\")\n",
        "print(new_message)\n",
        "\n",
        "# split the string into a list\n",
        "my_string = \"how are you doing\"\n",
        "a = my_string.split() # default argument is \" \"\n",
        "print(a)\n",
        "my_string = \"one,two,three\"\n",
        "a = my_string.split(\",\")\n",
        "print(a)\n",
        "\n",
        "# join elements of a list into a string\n",
        "my_list = ['How', 'are', 'you', 'doing']\n",
        "a = ' '.join(my_list) # the given string is the separator, e.g. ' ' between each argument\n",
        "print(a)"
      ],
      "metadata": {
        "colab": {
          "base_uri": "https://localhost:8080/"
        },
        "id": "8NLb_S5Mek5f",
        "outputId": "75616b7d-60c7-486f-e457-f684f6e00af9"
      },
      "execution_count": null,
      "outputs": [
        {
          "output_type": "stream",
          "name": "stdout",
          "text": [
            "Hello World\n",
            "11\n",
            "HELLO WORLD\n",
            "hello world\n",
            "True\n",
            "True\n",
            "4\n",
            "1\n",
            "Hello Universe\n",
            "['how', 'are', 'you', 'doing']\n",
            "['one', 'two', 'three']\n",
            "How are you doing\n"
          ]
        }
      ]
    },
    {
      "cell_type": "code",
      "source": [
        "# use braces as placeholders\n",
        "a = \"Hello {0} and {1}\".format(\"Bob\", \"Tom\")\n",
        "print(a)\n",
        "\n",
        "# the positions are optional for the default order\n",
        "a = \"Hello {} and {}\".format(\"Bob\", \"Tom\")\n",
        "print(a)\n",
        "\n",
        "a = \"The integer value is {}\".format(2)\n",
        "print(a)\n",
        "\n",
        "# some special format rules for numbers\n",
        "a = \"The float value is {0:.3f}\".format(2.1234)\n",
        "print(a)\n",
        "a = \"The float value is {0:e}\".format(2.1234)\n",
        "print(a)\n",
        "a = \"The binary value is {0:b}\".format(2)\n",
        "print(a)\n",
        "\n",
        "# old style formatting by using % operator\n",
        "print(\"Hello %s and %s\" % (\"Bob\", \"Tom\")) # must be a tuple for multiple arguments\n",
        "val =  3.14159265359\n",
        "print(\"The decimal value is %d\" % val)\n",
        "print(\"The float value is %f\" % val)\n",
        "print(\"The float value is %.2f\" % val)"
      ],
      "metadata": {
        "colab": {
          "base_uri": "https://localhost:8080/"
        },
        "id": "WdrDR8CIepne",
        "outputId": "a4b3e587-3bd1-4ffa-d05e-58ae5c1b7e35"
      },
      "execution_count": null,
      "outputs": [
        {
          "output_type": "stream",
          "name": "stdout",
          "text": [
            "Hello Bob and Tom\n",
            "Hello Bob and Tom\n",
            "The integer value is 2\n",
            "The float value is 2.123\n",
            "The float value is 2.123400e+00\n",
            "The binary value is 10\n",
            "Hello Bob and Tom\n",
            "The decimal value is 3\n",
            "The float value is 3.141593\n",
            "The float value is 3.14\n"
          ]
        }
      ]
    },
    {
      "cell_type": "code",
      "source": [
        "name = \"Eric\"\n",
        "age = 25\n",
        "a = f\"Hello, {name}. You are {age}.\"\n",
        "print(a)\n",
        "pi = 3.14159\n",
        "a = f\"Pi is {pi:.3f}\"\n",
        "print(a)\n",
        "# f-Strings are evaluated at runtime, which allows expressions\n",
        "a = f\"The value is {2*60}\"\n",
        "print(a)"
      ],
      "metadata": {
        "colab": {
          "base_uri": "https://localhost:8080/"
        },
        "id": "kC0yuHR5ewXM",
        "outputId": "229ce20c-559c-4c93-f767-89822cdc9552"
      },
      "execution_count": null,
      "outputs": [
        {
          "output_type": "stream",
          "name": "stdout",
          "text": [
            "Hello, Eric. You are 25.\n",
            "Pi is 3.142\n",
            "The value is 120\n"
          ]
        }
      ]
    },
    {
      "cell_type": "code",
      "source": [
        "from timeit import default_timer as timer\n",
        "my_list = [\"a\"] * 1000000\n",
        "\n",
        "# bad\n",
        "start = timer()\n",
        "a = \"\"\n",
        "for i in my_list:\n",
        "    a += i\n",
        "end = timer()\n",
        "print(\"concatenate string with + : %.5f\" % (end - start))\n",
        "\n",
        "# good\n",
        "start = timer()\n",
        "a = \"\".join(my_list)\n",
        "end = timer()\n",
        "print(\"concatenate string with join(): %.5f\" % (end - start))"
      ],
      "metadata": {
        "colab": {
          "base_uri": "https://localhost:8080/"
        },
        "id": "u2ztEVgKe1In",
        "outputId": "98516344-155f-4ab3-c7cd-b25a5b784876"
      },
      "execution_count": null,
      "outputs": [
        {
          "output_type": "stream",
          "name": "stdout",
          "text": [
            "concatenate string with + : 0.30131\n",
            "concatenate string with join(): 0.00855\n"
          ]
        }
      ]
    },
    {
      "cell_type": "markdown",
      "source": [
        "Collection"
      ],
      "metadata": {
        "id": "HInzDXS0fQA6"
      }
    },
    {
      "cell_type": "code",
      "source": [
        "from collections import Counter\n",
        "a = \"aaaaabbbbcccdde\"\n",
        "my_counter = Counter(a)\n",
        "print(my_counter)\n",
        "\n",
        "print(my_counter.items())\n",
        "print(my_counter.keys())\n",
        "print(my_counter.values())\n",
        "\n",
        "my_list = [0, 1, 0, 1, 2, 1, 1, 3, 2, 3, 2, 4]\n",
        "my_counter = Counter(my_list)\n",
        "print(my_counter)\n",
        "\n",
        "# most common items\n",
        "print(my_counter.most_common(1))\n",
        "\n",
        "print(list(my_counter.elements()))"
      ],
      "metadata": {
        "colab": {
          "base_uri": "https://localhost:8080/"
        },
        "id": "5aw2SaFse4cX",
        "outputId": "825c461e-903a-46e1-9df7-3113f704cfbf"
      },
      "execution_count": null,
      "outputs": [
        {
          "output_type": "stream",
          "name": "stdout",
          "text": [
            "Counter({'a': 5, 'b': 4, 'c': 3, 'd': 2, 'e': 1})\n",
            "dict_items([('a', 5), ('b', 4), ('c', 3), ('d', 2), ('e', 1)])\n",
            "dict_keys(['a', 'b', 'c', 'd', 'e'])\n",
            "dict_values([5, 4, 3, 2, 1])\n",
            "Counter({1: 4, 2: 3, 0: 2, 3: 2, 4: 1})\n",
            "[(1, 4)]\n",
            "[0, 0, 1, 1, 1, 1, 2, 2, 2, 3, 3, 4]\n"
          ]
        }
      ]
    },
    {
      "cell_type": "code",
      "source": [
        "from collections import namedtuple\n",
        "Point = namedtuple('Point','x, y')\n",
        "pt = Point(1, -4)\n",
        "print(pt)\n",
        "print(pt._fields)\n",
        "print(type(pt))\n",
        "print(pt.x, pt.y)\n",
        "\n",
        "Person = namedtuple('Person','name, age')\n",
        "friend = Person(name='Tom', age=25)\n",
        "print(friend.name, friend.age)"
      ],
      "metadata": {
        "colab": {
          "base_uri": "https://localhost:8080/"
        },
        "id": "IlVznjIBfTvY",
        "outputId": "c55afc41-7177-4889-f395-8d6d4b2bf4f2"
      },
      "execution_count": null,
      "outputs": [
        {
          "output_type": "stream",
          "name": "stdout",
          "text": [
            "Point(x=1, y=-4)\n",
            "('x', 'y')\n",
            "<class '__main__.Point'>\n",
            "1 -4\n",
            "Tom 25\n"
          ]
        }
      ]
    },
    {
      "cell_type": "code",
      "source": [
        "from collections import OrderedDict\n",
        "ordinary_dict = {}\n",
        "ordinary_dict['a'] = 1\n",
        "ordinary_dict['b'] = 2\n",
        "ordinary_dict['c'] = 3\n",
        "ordinary_dict['d'] = 4\n",
        "ordinary_dict['e'] = 5\n",
        "# this may be in orbitrary order prior to Python 3.7\n",
        "print(ordinary_dict)\n",
        "\n",
        "ordered_dict = OrderedDict()\n",
        "ordered_dict['a'] = 1\n",
        "ordered_dict['b'] = 2\n",
        "ordered_dict['c'] = 3\n",
        "ordered_dict['d'] = 4\n",
        "ordered_dict['e'] = 5\n",
        "print(ordered_dict)\n",
        "# same functionality as with ordinary dict, but always ordered\n",
        "for k, v in ordinary_dict.items():\n",
        "    print(k, v)"
      ],
      "metadata": {
        "colab": {
          "base_uri": "https://localhost:8080/"
        },
        "id": "cucgLb7sfZfv",
        "outputId": "f9452167-ab49-4b9d-da0d-088c9a7c7bcd"
      },
      "execution_count": null,
      "outputs": [
        {
          "output_type": "stream",
          "name": "stdout",
          "text": [
            "{'a': 1, 'b': 2, 'c': 3, 'd': 4, 'e': 5}\n",
            "OrderedDict([('a', 1), ('b', 2), ('c', 3), ('d', 4), ('e', 5)])\n",
            "a 1\n",
            "b 2\n",
            "c 3\n",
            "d 4\n",
            "e 5\n"
          ]
        }
      ]
    },
    {
      "cell_type": "code",
      "source": [
        "from collections import defaultdict\n",
        "\n",
        "d = defaultdict(int)\n",
        "d['yellow'] = 1\n",
        "d['blue'] = 2\n",
        "print(d.items())\n",
        "print(d['green'])\n",
        "\n",
        "# initialize with a default list value, i.e an empty list\n",
        "d = defaultdict(list)\n",
        "s = [('yellow', 1), ('blue', 2), ('yellow', 3), ('blue', 4), ('red', 5)]\n",
        "for k, v in s:\n",
        "    d[k].append(v)\n",
        "\n",
        "print(d.items())\n",
        "print(d['green'])"
      ],
      "metadata": {
        "colab": {
          "base_uri": "https://localhost:8080/"
        },
        "id": "XUYVmChsf20_",
        "outputId": "0b8824c9-11bd-4a3a-cbf5-fabbe658d350"
      },
      "execution_count": null,
      "outputs": [
        {
          "output_type": "stream",
          "name": "stdout",
          "text": [
            "dict_items([('yellow', 1), ('blue', 2)])\n",
            "0\n",
            "dict_items([('yellow', [1, 3]), ('blue', [2, 4]), ('red', [5])])\n",
            "[]\n"
          ]
        }
      ]
    },
    {
      "cell_type": "code",
      "source": [
        "from collections import deque\n",
        "d = deque()\n",
        "\n",
        "# append() : add elements to the right end \n",
        "d.append('a')\n",
        "d.append('b')\n",
        "print(d)\n",
        "\n",
        "# appendleft() : add elements to the left end \n",
        "d.appendleft('c')\n",
        "print(d)\n",
        "\n",
        "# pop() : return and remove elements from the right\n",
        "print(d.pop())\n",
        "print(d)\n",
        "\n",
        "# popleft() : return and remove elements from the left\n",
        "print(d.popleft())\n",
        "print(d)\n",
        "\n",
        "# clear() : remove all elements\n",
        "d.clear()\n",
        "print(d)\n",
        "\n",
        "d = deque(['a', 'b', 'c', 'd'])\n",
        "\n",
        "# extend at right or left side\n",
        "d.extend(['e', 'f', 'g'])\n",
        "d.extendleft(['h', 'i', 'j']) # note that 'j' is now at the left most position\n",
        "print(d)\n",
        "\n",
        "# count(x) : returns the number of found elements\n",
        "print(d.count('h'))\n",
        "\n",
        "# rotate 1 positions to the right\n",
        "d.rotate(1)\n",
        "print(d)\n",
        "\n",
        "# rotate 2 positions to the left\n",
        "d.rotate(-2)\n",
        "print(d)"
      ],
      "metadata": {
        "colab": {
          "base_uri": "https://localhost:8080/"
        },
        "id": "yZUF9WMqgPbp",
        "outputId": "68f31546-54c4-419f-af32-8d22d4a9a9c1"
      },
      "execution_count": null,
      "outputs": [
        {
          "output_type": "stream",
          "name": "stdout",
          "text": [
            "deque(['a', 'b'])\n",
            "deque(['c', 'a', 'b'])\n",
            "b\n",
            "deque(['c', 'a'])\n",
            "c\n",
            "deque(['a'])\n",
            "deque([])\n",
            "deque(['j', 'i', 'h', 'a', 'b', 'c', 'd', 'e', 'f', 'g'])\n",
            "1\n",
            "deque(['g', 'j', 'i', 'h', 'a', 'b', 'c', 'd', 'e', 'f'])\n",
            "deque(['i', 'h', 'a', 'b', 'c', 'd', 'e', 'f', 'g', 'j'])\n"
          ]
        }
      ]
    },
    {
      "cell_type": "markdown",
      "source": [
        "Itertools"
      ],
      "metadata": {
        "id": "PWpKwFqTg-vN"
      }
    },
    {
      "cell_type": "code",
      "source": [
        "from itertools import product\n",
        "\n",
        "prod = product([1, 2], [3, 4])\n",
        "print(list(prod)) # note that we convert the iterator to a list for printing\n",
        "\n",
        "# to allow the product of an iterable with itself, specify the number of repetitions \n",
        "prod = product([1, 2], [3], repeat=2)\n",
        "print(list(prod))"
      ],
      "metadata": {
        "colab": {
          "base_uri": "https://localhost:8080/"
        },
        "id": "YUqxVT4igUR5",
        "outputId": "bcf7e3fb-3e2d-4f34-856c-0062877bd4d4"
      },
      "execution_count": null,
      "outputs": [
        {
          "output_type": "stream",
          "name": "stdout",
          "text": [
            "[(1, 3), (1, 4), (2, 3), (2, 4)]\n",
            "[(1, 3, 1, 3), (1, 3, 2, 3), (2, 3, 1, 3), (2, 3, 2, 3)]\n"
          ]
        }
      ]
    },
    {
      "cell_type": "code",
      "source": [
        "from itertools import permutations\n",
        "\n",
        "perm = permutations([1, 2, 3])\n",
        "print(list(perm))\n",
        "\n",
        "# optional: the length of the permutation tuples\n",
        "perm = permutations([1, 2, 3], 2)\n",
        "print(list(perm))"
      ],
      "metadata": {
        "colab": {
          "base_uri": "https://localhost:8080/"
        },
        "id": "i-1eVCGJhBFK",
        "outputId": "612da1f8-2a34-4999-a51a-b2eccc4cfd47"
      },
      "execution_count": null,
      "outputs": [
        {
          "output_type": "stream",
          "name": "stdout",
          "text": [
            "[(1, 2, 3), (1, 3, 2), (2, 1, 3), (2, 3, 1), (3, 1, 2), (3, 2, 1)]\n",
            "[(1, 2), (1, 3), (2, 1), (2, 3), (3, 1), (3, 2)]\n"
          ]
        }
      ]
    },
    {
      "cell_type": "code",
      "source": [
        "from itertools import combinations, combinations_with_replacement\n",
        "\n",
        "# the second argument is mandatory and specifies the length of the output tuples.\n",
        "comb = combinations([1, 2, 3, 4], 2)\n",
        "print(list(comb))\n",
        "\n",
        "comb = combinations_with_replacement([1, 2, 3, 4], 2)\n",
        "print(list(comb))\n"
      ],
      "metadata": {
        "colab": {
          "base_uri": "https://localhost:8080/"
        },
        "id": "4nzUoZdChDtJ",
        "outputId": "43171fe7-7b24-4318-bc13-b5ae01e3b6b9"
      },
      "execution_count": null,
      "outputs": [
        {
          "output_type": "stream",
          "name": "stdout",
          "text": [
            "[(1, 2), (1, 3), (1, 4), (2, 3), (2, 4), (3, 4)]\n",
            "[(1, 1), (1, 2), (1, 3), (1, 4), (2, 2), (2, 3), (2, 4), (3, 3), (3, 4), (4, 4)]\n"
          ]
        }
      ]
    },
    {
      "cell_type": "code",
      "source": [
        "from itertools import accumulate\n",
        "\n",
        "# return accumulated sums\n",
        "acc = accumulate([1,2,3,4])\n",
        "print(list(acc))\n",
        "\n",
        "# other possible functions are possible\n",
        "import operator\n",
        "acc = accumulate([1,2,3,4], func=operator.mul)\n",
        "print(list(acc))\n",
        "\n",
        "acc = accumulate([1,5,2,6,3,4], func=max)\n",
        "print(list(acc))"
      ],
      "metadata": {
        "colab": {
          "base_uri": "https://localhost:8080/"
        },
        "id": "R1krjlTnhNvC",
        "outputId": "bb3f187b-fe0d-4a75-b4a2-61d1a020d1fb"
      },
      "execution_count": null,
      "outputs": [
        {
          "output_type": "stream",
          "name": "stdout",
          "text": [
            "[1, 3, 6, 10]\n",
            "[1, 2, 6, 24]\n",
            "[1, 5, 5, 6, 6, 6]\n"
          ]
        }
      ]
    },
    {
      "cell_type": "code",
      "source": [
        "from itertools import groupby\n",
        "\n",
        "# use a function as key\n",
        "def smaller_than_3(x):\n",
        "    return x < 3\n",
        "\n",
        "group_obj = groupby([1, 2, 3, 4], key=smaller_than_3)\n",
        "for key, group in group_obj:\n",
        "    print(key, list(group))\n",
        "    \n",
        "# or use a lamda expression, e.g. words with an 'i':\n",
        "group_obj = groupby([\"hi\", \"nice\", \"hello\", \"cool\"], key=lambda x: \"i\" in x)\n",
        "for key, group in group_obj:\n",
        "    print(key, list(group))\n",
        "    \n",
        "persons = [{'name': 'Tim', 'age': 25}, {'name': 'Dan', 'age': 25}, \n",
        "           {'name': 'Lisa', 'age': 27}, {'name': 'Claire', 'age': 28}]\n",
        "\n",
        "for key, group in groupby(persons, key=lambda x: x['age']):\n",
        "    print(key, list(group))"
      ],
      "metadata": {
        "colab": {
          "base_uri": "https://localhost:8080/"
        },
        "id": "rn6vbA2DhQwi",
        "outputId": "caf99dce-626b-47cb-dc5a-a339a09a6f73"
      },
      "execution_count": null,
      "outputs": [
        {
          "output_type": "stream",
          "name": "stdout",
          "text": [
            "True [1, 2]\n",
            "False [3, 4]\n",
            "True ['hi', 'nice']\n",
            "False ['hello', 'cool']\n",
            "25 [{'name': 'Tim', 'age': 25}, {'name': 'Dan', 'age': 25}]\n",
            "27 [{'name': 'Lisa', 'age': 27}]\n",
            "28 [{'name': 'Claire', 'age': 28}]\n"
          ]
        }
      ]
    },
    {
      "cell_type": "code",
      "source": [
        "from itertools import groupby\n",
        "\n",
        "# use a function as key\n",
        "def smaller_than_3(x):\n",
        "    return x < 3\n",
        "\n",
        "group_obj = groupby([1, 2, 3, 4], key=smaller_than_3)\n",
        "for key, group in group_obj:\n",
        "    print(key, list(group))\n",
        "    \n",
        "# or use a lamda expression, e.g. words with an 'i':\n",
        "group_obj = groupby([\"hi\", \"nice\", \"hello\", \"cool\"], key=lambda x: \"i\" in x)\n",
        "for key, group in group_obj:\n",
        "    print(key, list(group))\n",
        "    \n",
        "persons = [{'name': 'Tim', 'age': 25}, {'name': 'Dan', 'age': 25}, \n",
        "           {'name': 'Lisa', 'age': 27}, {'name': 'Claire', 'age': 28}]\n",
        "\n",
        "for key, group in groupby(persons, key=lambda x: x['age']):\n",
        "    print(key, list(group))"
      ],
      "metadata": {
        "colab": {
          "base_uri": "https://localhost:8080/"
        },
        "id": "AseCYG0YhTsB",
        "outputId": "30b720b9-5b36-4e9e-cb51-6284def842ea"
      },
      "execution_count": null,
      "outputs": [
        {
          "output_type": "stream",
          "name": "stdout",
          "text": [
            "True [1, 2]\n",
            "False [3, 4]\n",
            "True ['hi', 'nice']\n",
            "False ['hello', 'cool']\n",
            "25 [{'name': 'Tim', 'age': 25}, {'name': 'Dan', 'age': 25}]\n",
            "27 [{'name': 'Lisa', 'age': 27}]\n",
            "28 [{'name': 'Claire', 'age': 28}]\n"
          ]
        }
      ]
    },
    {
      "cell_type": "code",
      "source": [
        "from itertools import count, cycle, repeat\n",
        "# count(x): count from x: x, x+1, x+2, x+3...\n",
        "for i in count(10):\n",
        "    print(i)\n",
        "    if  i >= 13:\n",
        "        break\n",
        "# cycle(iterable) : cycle infinitely through an iterable\n",
        "print(\"\")\n",
        "sum = 0\n",
        "for i in cycle([1, 2, 3]):\n",
        "    print(i)\n",
        "    sum += i\n",
        "    if sum >= 12:\n",
        "        break\n",
        "# repeat(x): repeat x infinitely or n times\n",
        "print(\"\")\n",
        "for i in repeat(\"A\", 3):\n",
        "    print(i)"
      ],
      "metadata": {
        "colab": {
          "base_uri": "https://localhost:8080/"
        },
        "id": "j93WvIDyhWh5",
        "outputId": "8d6ed580-1e83-4a8a-d050-cb1b62962dd4"
      },
      "execution_count": null,
      "outputs": [
        {
          "output_type": "stream",
          "name": "stdout",
          "text": [
            "10\n",
            "11\n",
            "12\n",
            "13\n",
            "\n",
            "1\n",
            "2\n",
            "3\n",
            "1\n",
            "2\n",
            "3\n",
            "\n",
            "A\n",
            "A\n",
            "A\n"
          ]
        }
      ]
    },
    {
      "cell_type": "markdown",
      "source": [
        "Lambda Function"
      ],
      "metadata": {
        "id": "7cVQggnZhjnH"
      }
    },
    {
      "cell_type": "code",
      "source": [
        "# a lambda function that adds 10 to the input argument\n",
        "f = lambda x: x+10\n",
        "val1 = f(5)\n",
        "val2 = f(100)\n",
        "print(val1, val2)\n",
        "\n",
        "# a lambda function that multiplies two input arguments and returns the result\n",
        "f = lambda x,y: x*y\n",
        "val3 = f(2,10)\n",
        "val4 = f(7,5)\n",
        "print(val3, val4)"
      ],
      "metadata": {
        "colab": {
          "base_uri": "https://localhost:8080/"
        },
        "id": "IzhNGR4thbhS",
        "outputId": "27ef740f-4490-45cb-d033-494c0f823a2c"
      },
      "execution_count": null,
      "outputs": [
        {
          "output_type": "stream",
          "name": "stdout",
          "text": [
            "15 110\n",
            "20 35\n"
          ]
        }
      ]
    },
    {
      "cell_type": "code",
      "source": [
        "def myfunc(n):\n",
        "    return lambda x: x * n\n",
        "\n",
        "doubler = myfunc(2)\n",
        "print(doubler(6))\n",
        "\n",
        "tripler = myfunc(3)\n",
        "print(tripler(6))"
      ],
      "metadata": {
        "colab": {
          "base_uri": "https://localhost:8080/"
        },
        "id": "1VL33qJOhyKK",
        "outputId": "8dbbab41-9b08-4387-9a03-49d2391c5582"
      },
      "execution_count": null,
      "outputs": [
        {
          "output_type": "stream",
          "name": "stdout",
          "text": [
            "12\n",
            "18\n"
          ]
        }
      ]
    },
    {
      "cell_type": "code",
      "source": [
        "points2D = [(1, 9), (4, 1), (5, -3), (10, 2)]\n",
        "sorted_by_y = sorted(points2D, key= lambda x: x[1])\n",
        "print(sorted_by_y)\n",
        "\n",
        "mylist = [- 1, -4, -2, -3, 1, 2, 3, 4]\n",
        "sorted_by_abs = sorted(mylist, key= lambda x: abs(x))\n",
        "print(sorted_by_abs)"
      ],
      "metadata": {
        "colab": {
          "base_uri": "https://localhost:8080/"
        },
        "id": "iKrbMphKh04L",
        "outputId": "909719c5-5d2a-468a-e65e-4f0f02cc562b"
      },
      "execution_count": null,
      "outputs": [
        {
          "output_type": "stream",
          "name": "stdout",
          "text": [
            "[(5, -3), (4, 1), (10, 2), (1, 9)]\n",
            "[-1, 1, -2, 2, -3, 3, -4, 4]\n"
          ]
        }
      ]
    },
    {
      "cell_type": "code",
      "source": [
        "a  = [1, 2, 3, 4, 5, 6]\n",
        "b = list(map(lambda x: x * 2 , a))\n",
        "\n",
        "# However, try to prefer list comprehension\n",
        "# Use map if you have an already defined function\n",
        "c = [x*2 for x in a]\n",
        "print(b)\n",
        "print(c)"
      ],
      "metadata": {
        "colab": {
          "base_uri": "https://localhost:8080/"
        },
        "id": "gfB0nG71h4eb",
        "outputId": "fc367d35-c81d-4663-92e3-e692ed35c8c4"
      },
      "execution_count": null,
      "outputs": [
        {
          "output_type": "stream",
          "name": "stdout",
          "text": [
            "[2, 4, 6, 8, 10, 12]\n",
            "[2, 4, 6, 8, 10, 12]\n"
          ]
        }
      ]
    },
    {
      "cell_type": "code",
      "source": [
        "a = [1, 2, 3, 4, 5, 6, 7, 8]\n",
        "b = list(filter(lambda x: (x%2 == 0) , a))\n",
        "\n",
        "# However, the same can be achieved with list comprehension\n",
        "c = [x for x in a if x%2 == 0]\n",
        "print(b)\n",
        "print(c)"
      ],
      "metadata": {
        "colab": {
          "base_uri": "https://localhost:8080/"
        },
        "id": "AJLMMXYih-gz",
        "outputId": "758fc8b3-ce63-43d6-e118-882c9741718a"
      },
      "execution_count": null,
      "outputs": [
        {
          "output_type": "stream",
          "name": "stdout",
          "text": [
            "[2, 4, 6, 8]\n",
            "[2, 4, 6, 8]\n"
          ]
        }
      ]
    },
    {
      "cell_type": "code",
      "source": [
        "from functools import reduce\n",
        "a = [1, 2, 3, 4]\n",
        "product_a = reduce(lambda x, y: x*y, a)\n",
        "print(product_a)\n",
        "sum_a = reduce(lambda x, y: x+y, a)\n",
        "print(sum_a)"
      ],
      "metadata": {
        "colab": {
          "base_uri": "https://localhost:8080/"
        },
        "id": "bEBE0pSOiEM7",
        "outputId": "dd57964a-81db-4d65-dd51-a089bf1c8a57"
      },
      "execution_count": null,
      "outputs": [
        {
          "output_type": "stream",
          "name": "stdout",
          "text": [
            "24\n",
            "10\n"
          ]
        }
      ]
    },
    {
      "cell_type": "markdown",
      "source": [
        "Exceptions"
      ],
      "metadata": {
        "id": "C-JdDPeMiJvf"
      }
    },
    {
      "cell_type": "code",
      "source": [
        "try:\n",
        "    a = 5 / 0\n",
        "except:\n",
        "    print('some error occured.')\n",
        "    \n",
        "# You can also catch the type of exception\n",
        "try:\n",
        "    a = 5 / 0\n",
        "except Exception as e:\n",
        "    print(e)\n",
        "    \n",
        "# It is good practice to specify the type of Exception you want to catch.\n",
        "# Therefore, you have to know the possible errors\n",
        "try:\n",
        "    a = 5 / 0\n",
        "except ZeroDivisionError:\n",
        "    print('Only a ZeroDivisionError is handled here')\n",
        "    \n",
        "# You can run multiple statements in a try block, and catch different possible exceptions\n",
        "try:\n",
        "    a = 5 / 1 # Note: No ZeroDivisionError here\n",
        "    b = a + '10'\n",
        "except ZeroDivisionError as e:\n",
        "    print('A ZeroDivisionError occured:', e)\n",
        "except TypeError as e:\n",
        "    print('A TypeError occured:', e)"
      ],
      "metadata": {
        "colab": {
          "base_uri": "https://localhost:8080/"
        },
        "id": "IZMpDjBFiIwb",
        "outputId": "e4eab30e-373a-4c9c-ecc8-8d10b3487ead"
      },
      "execution_count": null,
      "outputs": [
        {
          "output_type": "stream",
          "name": "stdout",
          "text": [
            "some error occured.\n",
            "division by zero\n",
            "Only a ZeroDivisionError is handled here\n",
            "A TypeError occured: unsupported operand type(s) for +: 'float' and 'str'\n"
          ]
        }
      ]
    },
    {
      "cell_type": "code",
      "source": [
        "try:\n",
        "    a = 5 / 1\n",
        "except ZeroDivisionError as e:\n",
        "    print('A ZeroDivisionError occured:', e)\n",
        "else:\n",
        "    print('Everything is ok')"
      ],
      "metadata": {
        "colab": {
          "base_uri": "https://localhost:8080/"
        },
        "id": "RoTyhiStiuor",
        "outputId": "67121944-2837-47c8-91d2-d47c93515e41"
      },
      "execution_count": null,
      "outputs": [
        {
          "output_type": "stream",
          "name": "stdout",
          "text": [
            "Everything is ok\n"
          ]
        }
      ]
    },
    {
      "cell_type": "code",
      "source": [
        "try:\n",
        "    a = 5 / 1 # Note: No ZeroDivisionError here\n",
        "    b = a + '10'\n",
        "except ZeroDivisionError as e:\n",
        "    print('A ZeroDivisionError occured:', e)\n",
        "except TypeError as e:\n",
        "    print('A TypeError occured:', e)\n",
        "else:\n",
        "    print('Everything is ok')\n",
        "finally:\n",
        "    print('Cleaning up some stuff...')"
      ],
      "metadata": {
        "colab": {
          "base_uri": "https://localhost:8080/"
        },
        "id": "S3cFESExiyeH",
        "outputId": "4d5e3368-fe8b-4bbe-88a0-8d2f1ef991ff"
      },
      "execution_count": null,
      "outputs": [
        {
          "output_type": "stream",
          "name": "stdout",
          "text": [
            "A TypeError occured: unsupported operand type(s) for +: 'float' and 'str'\n",
            "Cleaning up some stuff...\n"
          ]
        }
      ]
    },
    {
      "cell_type": "code",
      "source": [
        "# minimal example for own exception class\n",
        "class ValueTooHighError(Exception):\n",
        "    pass\n",
        "\n",
        "# or add some more information for handlers\n",
        "class ValueTooLowError(Exception):\n",
        "    def __init__(self, message, value):\n",
        "        self.message = message\n",
        "        self.value = value\n",
        "\n",
        "def test_value(a):\n",
        "    if a > 1000:\n",
        "        raise ValueTooHighError('Value is too high.')\n",
        "    if a < 5:\n",
        "        raise ValueTooLowError('Value is too low.', a) # Note that the constructor takes 2 arguments here\n",
        "    return a\n",
        "\n",
        "try:\n",
        "    test_value(1)\n",
        "except ValueTooHighError as e:\n",
        "    print(e)\n",
        "except ValueTooLowError as e:\n",
        "    print(e.message, 'The value is:', e.value)"
      ],
      "metadata": {
        "colab": {
          "base_uri": "https://localhost:8080/"
        },
        "id": "kSwQPiUZi0Wc",
        "outputId": "163d60ae-435a-4b0f-cf41-07881b19456a"
      },
      "execution_count": null,
      "outputs": [
        {
          "output_type": "stream",
          "name": "stdout",
          "text": [
            "Value is too low. The value is: 1\n"
          ]
        }
      ]
    },
    {
      "cell_type": "markdown",
      "source": [
        "Logging"
      ],
      "metadata": {
        "id": "BuceQK5QpH3I"
      }
    },
    {
      "cell_type": "code",
      "source": [
        "import logging\n",
        "logging.debug('This is a debug message')\n",
        "logging.info('This is an info message')\n",
        "logging.warning('This is a warning message')\n",
        "logging.error('This is an error message')\n",
        "logging.critical('This is a critical message')"
      ],
      "metadata": {
        "colab": {
          "base_uri": "https://localhost:8080/"
        },
        "id": "1KK3JKaki3wU",
        "outputId": "40795d47-d1ae-4943-b05a-b3a2c75ed41a"
      },
      "execution_count": null,
      "outputs": [
        {
          "output_type": "stream",
          "name": "stderr",
          "text": [
            "WARNING:root:This is a warning message\n",
            "ERROR:root:This is an error message\n",
            "CRITICAL:root:This is a critical message\n"
          ]
        }
      ]
    },
    {
      "cell_type": "code",
      "source": [
        "import logging\n",
        "logging.basicConfig(level=logging.DEBUG, format='%(asctime)s - %(name)s - %(levelname)s - %(message)s', datefmt='%m/%d/%Y %H:%M:%S')\n",
        "# Now also debug messages will get logged with a different format.\n",
        "logging.debug('Debug message')"
      ],
      "metadata": {
        "id": "NRco3kP2pLT1"
      },
      "execution_count": null,
      "outputs": []
    },
    {
      "cell_type": "code",
      "source": [
        "import logging\n",
        "logger = logging.getLogger(__name__)\n",
        "logger.info('HELLO')\n",
        "\n",
        "import logging\n",
        "logging.basicConfig(level=logging.INFO, format='%(name)s - %(levelname)s - %(message)s')\n",
        "import helper"
      ],
      "metadata": {
        "id": "Tcc0ldqepOTs"
      },
      "execution_count": null,
      "outputs": []
    },
    {
      "cell_type": "code",
      "source": [
        "import logging\n",
        "logger = logging.getLogger(__name__)\n",
        "logger.propagate = False\n",
        "logger.info('HELLO')\n",
        "\n",
        "import logging\n",
        "logging.basicConfig(level=logging.INFO, format='%(name)s - %(levelname)s - %(message)s')\n",
        "import helper"
      ],
      "metadata": {
        "id": "h7nfpKQnpTHe"
      },
      "execution_count": null,
      "outputs": []
    },
    {
      "cell_type": "code",
      "source": [
        "import logging\n",
        "\n",
        "logger = logging.getLogger(__name__)\n",
        "\n",
        "# Create handlers\n",
        "stream_handler = logging.StreamHandler()\n",
        "file_handler = logging.FileHandler('file.log')\n",
        "\n",
        "# Configure level and formatter and add it to handlers\n",
        "stream_handler.setLevel(logging.WARNING) # warning and above is logged to the stream\n",
        "file_handler.setLevel(logging.ERROR) # error and above is logged to a file\n",
        "\n",
        "stream_format = logging.Formatter('%(name)s - %(levelname)s - %(message)s')\n",
        "file_format = logging.Formatter('%(asctime)s - %(name)s - %(levelname)s - %(message)s')\n",
        "stream_handler.setFormatter(stream_format)\n",
        "file_handler.setFormatter(file_format)\n",
        "\n",
        "# Add handlers to the logger\n",
        "logger.addHandler(stream_handler)\n",
        "logger.addHandler(file_handler)\n",
        "\n",
        "logger.warning('This is a warning') # logged to the stream\n",
        "logger.error('This is an error')"
      ],
      "metadata": {
        "colab": {
          "base_uri": "https://localhost:8080/"
        },
        "id": "FvITm9arpZW9",
        "outputId": "6b2cbf87-3059-4f87-93ee-7ff09f1ca0ad"
      },
      "execution_count": null,
      "outputs": [
        {
          "output_type": "stream",
          "name": "stderr",
          "text": [
            "__main__ - WARNING - This is a warning\n",
            "__main__ - ERROR - This is an error\n"
          ]
        }
      ]
    },
    {
      "cell_type": "code",
      "source": [
        "class InfoFilter(logging.Filter):\n",
        "    \n",
        "    # overwrite this method. Only log records for which this\n",
        "    # function evaluates to True will pass the filter.\n",
        "    def filter(self, record):\n",
        "        return record.levelno == logging.INFO\n",
        "\n",
        "# Now only INFO level messages will be logged\n",
        "stream_handler.addFilter(InfoFilter())\n",
        "logger.addHandler(stream_handler)"
      ],
      "metadata": {
        "id": "nk7KcuzHpdVN"
      },
      "execution_count": null,
      "outputs": []
    },
    {
      "cell_type": "code",
      "source": [
        "# logging.conf\n",
        "[loggers]\n",
        "keys=root,simpleExample\n",
        "\n",
        "[handlers]\n",
        "keys=consoleHandler\n",
        "\n",
        "[formatters]\n",
        "keys=simpleFormatter\n",
        "\n",
        "[logger_root]\n",
        "level=DEBUG\n",
        "handlers=consoleHandler\n",
        "\n",
        "[logger_simpleExample]\n",
        "level=DEBUG\n",
        "handlers=consoleHandler\n",
        "qualname=simpleExample\n",
        "propagate=0\n",
        "\n",
        "[handler_consoleHandler]\n",
        "class= StreamHandler\n",
        "level=DEBUG\n",
        "formatter=simpleFormatter\n",
        "args=(sys.stdout,)\n",
        "\n",
        "[formatter_simpleFormatter]\n",
        "format=%(asctime)s - %(name)s - %(levelname)s - %(message)s"
      ],
      "metadata": {
        "id": "nNOble5vphmG"
      },
      "execution_count": null,
      "outputs": []
    },
    {
      "cell_type": "code",
      "source": [
        "# Then use the config file in the code\n",
        "import logging\n",
        "import logging.config\n",
        "\n",
        "logging.config.fileConfig('logging.conf')\n",
        "\n",
        "# create logger with the name from the config file. \n",
        "# This logger now has StreamHandler with DEBUG Level and the specified format\n",
        "logger = logging.getLogger('simpleExample')\n",
        "\n",
        "logger.debug('debug message')\n",
        "logger.info('info message')"
      ],
      "metadata": {
        "colab": {
          "base_uri": "https://localhost:8080/",
          "height": 380
        },
        "id": "qv65gD3Rpkzf",
        "outputId": "013fc347-cd79-4688-c76a-185cf73b8398"
      },
      "execution_count": null,
      "outputs": [
        {
          "output_type": "error",
          "ename": "KeyError",
          "evalue": "ignored",
          "traceback": [
            "\u001b[0;31m---------------------------------------------------------------------------\u001b[0m",
            "\u001b[0;31mKeyError\u001b[0m                                  Traceback (most recent call last)",
            "\u001b[0;32m<ipython-input-89-16ac13bae536>\u001b[0m in \u001b[0;36m<module>\u001b[0;34m\u001b[0m\n\u001b[1;32m      3\u001b[0m \u001b[0;32mimport\u001b[0m \u001b[0mlogging\u001b[0m\u001b[0;34m.\u001b[0m\u001b[0mconfig\u001b[0m\u001b[0;34m\u001b[0m\u001b[0;34m\u001b[0m\u001b[0m\n\u001b[1;32m      4\u001b[0m \u001b[0;34m\u001b[0m\u001b[0m\n\u001b[0;32m----> 5\u001b[0;31m \u001b[0mlogging\u001b[0m\u001b[0;34m.\u001b[0m\u001b[0mconfig\u001b[0m\u001b[0;34m.\u001b[0m\u001b[0mfileConfig\u001b[0m\u001b[0;34m(\u001b[0m\u001b[0;34m'logging.conf'\u001b[0m\u001b[0;34m)\u001b[0m\u001b[0;34m\u001b[0m\u001b[0;34m\u001b[0m\u001b[0m\n\u001b[0m\u001b[1;32m      6\u001b[0m \u001b[0;34m\u001b[0m\u001b[0m\n\u001b[1;32m      7\u001b[0m \u001b[0;31m# create logger with the name from the config file.\u001b[0m\u001b[0;34m\u001b[0m\u001b[0;34m\u001b[0m\u001b[0;34m\u001b[0m\u001b[0m\n",
            "\u001b[0;32m/usr/lib/python3.7/logging/config.py\u001b[0m in \u001b[0;36mfileConfig\u001b[0;34m(fname, defaults, disable_existing_loggers)\u001b[0m\n\u001b[1;32m     69\u001b[0m             \u001b[0mcp\u001b[0m\u001b[0;34m.\u001b[0m\u001b[0mread\u001b[0m\u001b[0;34m(\u001b[0m\u001b[0mfname\u001b[0m\u001b[0;34m)\u001b[0m\u001b[0;34m\u001b[0m\u001b[0;34m\u001b[0m\u001b[0m\n\u001b[1;32m     70\u001b[0m \u001b[0;34m\u001b[0m\u001b[0m\n\u001b[0;32m---> 71\u001b[0;31m     \u001b[0mformatters\u001b[0m \u001b[0;34m=\u001b[0m \u001b[0m_create_formatters\u001b[0m\u001b[0;34m(\u001b[0m\u001b[0mcp\u001b[0m\u001b[0;34m)\u001b[0m\u001b[0;34m\u001b[0m\u001b[0;34m\u001b[0m\u001b[0m\n\u001b[0m\u001b[1;32m     72\u001b[0m \u001b[0;34m\u001b[0m\u001b[0m\n\u001b[1;32m     73\u001b[0m     \u001b[0;31m# critical section\u001b[0m\u001b[0;34m\u001b[0m\u001b[0;34m\u001b[0m\u001b[0;34m\u001b[0m\u001b[0m\n",
            "\u001b[0;32m/usr/lib/python3.7/logging/config.py\u001b[0m in \u001b[0;36m_create_formatters\u001b[0;34m(cp)\u001b[0m\n\u001b[1;32m    102\u001b[0m \u001b[0;32mdef\u001b[0m \u001b[0m_create_formatters\u001b[0m\u001b[0;34m(\u001b[0m\u001b[0mcp\u001b[0m\u001b[0;34m)\u001b[0m\u001b[0;34m:\u001b[0m\u001b[0;34m\u001b[0m\u001b[0;34m\u001b[0m\u001b[0m\n\u001b[1;32m    103\u001b[0m     \u001b[0;34m\"\"\"Create and return formatters\"\"\"\u001b[0m\u001b[0;34m\u001b[0m\u001b[0;34m\u001b[0m\u001b[0m\n\u001b[0;32m--> 104\u001b[0;31m     \u001b[0mflist\u001b[0m \u001b[0;34m=\u001b[0m \u001b[0mcp\u001b[0m\u001b[0;34m[\u001b[0m\u001b[0;34m\"formatters\"\u001b[0m\u001b[0;34m]\u001b[0m\u001b[0;34m[\u001b[0m\u001b[0;34m\"keys\"\u001b[0m\u001b[0;34m]\u001b[0m\u001b[0;34m\u001b[0m\u001b[0;34m\u001b[0m\u001b[0m\n\u001b[0m\u001b[1;32m    105\u001b[0m     \u001b[0;32mif\u001b[0m \u001b[0;32mnot\u001b[0m \u001b[0mlen\u001b[0m\u001b[0;34m(\u001b[0m\u001b[0mflist\u001b[0m\u001b[0;34m)\u001b[0m\u001b[0;34m:\u001b[0m\u001b[0;34m\u001b[0m\u001b[0;34m\u001b[0m\u001b[0m\n\u001b[1;32m    106\u001b[0m         \u001b[0;32mreturn\u001b[0m \u001b[0;34m{\u001b[0m\u001b[0;34m}\u001b[0m\u001b[0;34m\u001b[0m\u001b[0;34m\u001b[0m\u001b[0m\n",
            "\u001b[0;32m/usr/lib/python3.7/configparser.py\u001b[0m in \u001b[0;36m__getitem__\u001b[0;34m(self, key)\u001b[0m\n\u001b[1;32m    956\u001b[0m     \u001b[0;32mdef\u001b[0m \u001b[0m__getitem__\u001b[0m\u001b[0;34m(\u001b[0m\u001b[0mself\u001b[0m\u001b[0;34m,\u001b[0m \u001b[0mkey\u001b[0m\u001b[0;34m)\u001b[0m\u001b[0;34m:\u001b[0m\u001b[0;34m\u001b[0m\u001b[0;34m\u001b[0m\u001b[0m\n\u001b[1;32m    957\u001b[0m         \u001b[0;32mif\u001b[0m \u001b[0mkey\u001b[0m \u001b[0;34m!=\u001b[0m \u001b[0mself\u001b[0m\u001b[0;34m.\u001b[0m\u001b[0mdefault_section\u001b[0m \u001b[0;32mand\u001b[0m \u001b[0;32mnot\u001b[0m \u001b[0mself\u001b[0m\u001b[0;34m.\u001b[0m\u001b[0mhas_section\u001b[0m\u001b[0;34m(\u001b[0m\u001b[0mkey\u001b[0m\u001b[0;34m)\u001b[0m\u001b[0;34m:\u001b[0m\u001b[0;34m\u001b[0m\u001b[0;34m\u001b[0m\u001b[0m\n\u001b[0;32m--> 958\u001b[0;31m             \u001b[0;32mraise\u001b[0m \u001b[0mKeyError\u001b[0m\u001b[0;34m(\u001b[0m\u001b[0mkey\u001b[0m\u001b[0;34m)\u001b[0m\u001b[0;34m\u001b[0m\u001b[0;34m\u001b[0m\u001b[0m\n\u001b[0m\u001b[1;32m    959\u001b[0m         \u001b[0;32mreturn\u001b[0m \u001b[0mself\u001b[0m\u001b[0;34m.\u001b[0m\u001b[0m_proxies\u001b[0m\u001b[0;34m[\u001b[0m\u001b[0mkey\u001b[0m\u001b[0;34m]\u001b[0m\u001b[0;34m\u001b[0m\u001b[0;34m\u001b[0m\u001b[0m\n\u001b[1;32m    960\u001b[0m \u001b[0;34m\u001b[0m\u001b[0m\n",
            "\u001b[0;31mKeyError\u001b[0m: 'formatters'"
          ]
        }
      ]
    },
    {
      "cell_type": "code",
      "source": [
        "import logging\n",
        "\n",
        "try:\n",
        "    a = [1, 2, 3]\n",
        "    value = a[3]\n",
        "except IndexError as e:\n",
        "    logging.error(e)\n",
        "    logging.error(e, exc_info=True)"
      ],
      "metadata": {
        "colab": {
          "base_uri": "https://localhost:8080/"
        },
        "id": "GqC3-5ZIpsLV",
        "outputId": "b83c6921-6484-4019-e89f-2fcf7fed03d6"
      },
      "execution_count": null,
      "outputs": [
        {
          "output_type": "stream",
          "name": "stderr",
          "text": [
            "ERROR:root:list index out of range\n",
            "ERROR:root:list index out of range\n",
            "Traceback (most recent call last):\n",
            "  File \"<ipython-input-90-df97a133cbe6>\", line 5, in <module>\n",
            "    value = a[3]\n",
            "IndexError: list index out of range\n"
          ]
        }
      ]
    },
    {
      "cell_type": "code",
      "source": [
        "import logging\n",
        "import traceback\n",
        "\n",
        "try:\n",
        "    a = [1, 2, 3]\n",
        "    value = a[3]\n",
        "except:\n",
        "    logging.error(\"uncaught exception: %s\", traceback.format_exc())"
      ],
      "metadata": {
        "colab": {
          "base_uri": "https://localhost:8080/"
        },
        "id": "o_IUQoLSpx6p",
        "outputId": "a94551b6-a2b8-4985-9855-d23e1e6c7e75"
      },
      "execution_count": null,
      "outputs": [
        {
          "output_type": "stream",
          "name": "stderr",
          "text": [
            "ERROR:root:uncaught exception: Traceback (most recent call last):\n",
            "  File \"<ipython-input-91-0c2f1bb90728>\", line 6, in <module>\n",
            "    value = a[3]\n",
            "IndexError: list index out of range\n",
            "\n"
          ]
        }
      ]
    },
    {
      "cell_type": "code",
      "source": [
        "import logging\n",
        "from logging.handlers import RotatingFileHandler\n",
        "\n",
        "logger = logging.getLogger(__name__)\n",
        "logger.setLevel(logging.INFO)\n",
        "\n",
        "# roll over after 2KB, and keep backup logs app.log.1, app.log.2 , etc.\n",
        "handler = RotatingFileHandler('app.log', maxBytes=2000, backupCount=5)\n",
        "logger.addHandler(handler)\n",
        "\n",
        "for _ in range(10000):\n",
        "    logger.info('Hello, world!')\n"
      ],
      "metadata": {
        "id": "w9YX-Py8p0g5"
      },
      "execution_count": null,
      "outputs": []
    },
    {
      "cell_type": "code",
      "source": [
        "import logging\n",
        "import time\n",
        "from logging.handlers import TimedRotatingFileHandler\n",
        " \n",
        "logger = logging.getLogger(__name__)\n",
        "logger.setLevel(logging.INFO)\n",
        "\n",
        "# This will create a new log file every minute, and 5 backup files with a timestamp before overwriting old logs.\n",
        "handler = TimedRotatingFileHandler('timed_test.log', when='m', interval=1, backupCount=5)\n",
        "logger.addHandler(handler)\n",
        " \n",
        "for i in range(6):\n",
        "    logger.info('Hello, world!')\n",
        "    time.sleep(50)"
      ],
      "metadata": {
        "id": "jPq8UDlLp4mC"
      },
      "execution_count": null,
      "outputs": []
    },
    {
      "cell_type": "code",
      "source": [
        "import logging\n",
        "from pythonjsonlogger import jsonlogger\n",
        "\n",
        "logger = logging.getLogger()\n",
        "\n",
        "logHandler = logging.StreamHandler()\n",
        "formatter = jsonlogger.JsonFormatter()\n",
        "logHandler.setFormatter(formatter)\n",
        "logger.addHandler(logHandler)"
      ],
      "metadata": {
        "id": "bFE21A2Cp7iB"
      },
      "execution_count": null,
      "outputs": []
    },
    {
      "cell_type": "markdown",
      "source": [
        "JSON"
      ],
      "metadata": {
        "id": "rD5lhS-ut7Tu"
      }
    },
    {
      "cell_type": "code",
      "source": [
        "{\n",
        "    \"firstName\": \"Jane\",\n",
        "    \"lastName\": \"Doe\",\n",
        "    \"hobbies\": [\"running\", \"swimming\", \"singing\"],\n",
        "    \"age\": 28,\n",
        "    \"children\": [\n",
        "        {\n",
        "            \"firstName\": \"Alex\",\n",
        "            \"age\": 5\n",
        "        },\n",
        "        {\n",
        "            \"firstName\": \"Bob\",\n",
        "            \"age\": 7\n",
        "        }\n",
        "    ]\n",
        "}"
      ],
      "metadata": {
        "id": "SDTm1tDvsKz7",
        "colab": {
          "base_uri": "https://localhost:8080/"
        },
        "outputId": "52ccea54-4665-4d6a-c242-116182d58dc3"
      },
      "execution_count": null,
      "outputs": [
        {
          "output_type": "execute_result",
          "data": {
            "text/plain": [
              "{'firstName': 'Jane',\n",
              " 'lastName': 'Doe',\n",
              " 'hobbies': ['running', 'swimming', 'singing'],\n",
              " 'age': 28,\n",
              " 'children': [{'firstName': 'Alex', 'age': 5}, {'firstName': 'Bob', 'age': 7}]}"
            ]
          },
          "metadata": {},
          "execution_count": 1
        }
      ]
    },
    {
      "cell_type": "code",
      "source": [
        "import json\n",
        "\n",
        "person = {\"name\": \"John\", \"age\": 30, \"city\": \"New York\", \"hasChildren\": False, \"titles\": [\"engineer\", \"programmer\"]}\n",
        "\n",
        "# convert into JSON:\n",
        "person_json = json.dumps(person)\n",
        "# use different formatting style\n",
        "person_json2 = json.dumps(person, indent=4, separators=(\"; \", \"= \"), sort_keys=True)\n",
        "\n",
        "# the result is a JSON string:\n",
        "print(person_json) \n",
        "print(person_json2) "
      ],
      "metadata": {
        "colab": {
          "base_uri": "https://localhost:8080/"
        },
        "id": "67WmyTJw5mEL",
        "outputId": "4f250d50-6eca-4037-bc3f-6baaf8ef0dcc"
      },
      "execution_count": null,
      "outputs": [
        {
          "output_type": "stream",
          "name": "stdout",
          "text": [
            "{\"name\": \"John\", \"age\": 30, \"city\": \"New York\", \"hasChildren\": false, \"titles\": [\"engineer\", \"programmer\"]}\n",
            "{\n",
            "    \"age\"= 30; \n",
            "    \"city\"= \"New York\"; \n",
            "    \"hasChildren\"= false; \n",
            "    \"name\"= \"John\"; \n",
            "    \"titles\"= [\n",
            "        \"engineer\"; \n",
            "        \"programmer\"\n",
            "    ]\n",
            "}\n"
          ]
        }
      ]
    },
    {
      "cell_type": "code",
      "source": [
        "import json\n",
        "\n",
        "person = {\"name\": \"John\", \"age\": 30, \"city\": \"New York\", \"hasChildren\": False, \"titles\": [\"engineer\", \"programmer\"]}\n",
        "\n",
        "with open('person.json', 'w') as f:\n",
        "    json.dump(person, f)"
      ],
      "metadata": {
        "id": "fv080YtM5twA"
      },
      "execution_count": null,
      "outputs": []
    },
    {
      "cell_type": "code",
      "source": [
        "import json\n",
        "person_json = \"\"\"\n",
        "{\n",
        "    \"age\": 30, \n",
        "    \"city\": \"New York\",\n",
        "    \"hasChildren\": false, \n",
        "    \"name\": \"John\",\n",
        "    \"titles\": [\n",
        "        \"engineer\",\n",
        "        \"programmer\"\n",
        "    ]\n",
        "}\n",
        "\"\"\"\n",
        "person = json.loads(person_json)\n",
        "print(person)"
      ],
      "metadata": {
        "colab": {
          "base_uri": "https://localhost:8080/"
        },
        "id": "to_xojcW6Y2V",
        "outputId": "701b703a-bc64-4cf8-e757-1bd88de82c5e"
      },
      "execution_count": null,
      "outputs": [
        {
          "output_type": "stream",
          "name": "stdout",
          "text": [
            "{'age': 30, 'city': 'New York', 'hasChildren': False, 'name': 'John', 'titles': ['engineer', 'programmer']}\n"
          ]
        }
      ]
    },
    {
      "cell_type": "code",
      "source": [
        "import json\n",
        "\n",
        "with open('person.json', 'r') as f:\n",
        "    person = json.load(f)\n",
        "    print(person)"
      ],
      "metadata": {
        "colab": {
          "base_uri": "https://localhost:8080/"
        },
        "id": "nL3nz6IL6bs9",
        "outputId": "dd9990e7-a752-4ae3-afd8-dbb277152e2e"
      },
      "execution_count": null,
      "outputs": [
        {
          "output_type": "stream",
          "name": "stdout",
          "text": [
            "{'name': 'John', 'age': 30, 'city': 'New York', 'hasChildren': False, 'titles': ['engineer', 'programmer']}\n"
          ]
        }
      ]
    },
    {
      "cell_type": "code",
      "source": [
        "import json\n",
        "def encode_complex(z):\n",
        "    if isinstance(z, complex):\n",
        "        # just the key of the class name is important, the value can be arbitrary.\n",
        "        return {z.__class__.__name__: True, \"real\":z.real, \"imag\":z.imag}\n",
        "    else:\n",
        "        raise TypeError(f\"Object of type '{z.__class__.__name__}' is not JSON serializable\")\n",
        "\n",
        "z = 5 + 9j\n",
        "zJSON = json.dumps(z, default=encode_complex)\n",
        "print(zJSON)"
      ],
      "metadata": {
        "colab": {
          "base_uri": "https://localhost:8080/"
        },
        "id": "Rg7M5UYe74mY",
        "outputId": "00e8b653-4780-4c03-bd23-abb0dbb31987"
      },
      "execution_count": null,
      "outputs": [
        {
          "output_type": "stream",
          "name": "stdout",
          "text": [
            "{\"complex\": true, \"real\": 5.0, \"imag\": 9.0}\n"
          ]
        }
      ]
    },
    {
      "cell_type": "code",
      "source": [
        "from json import JSONEncoder\n",
        "class ComplexEncoder(JSONEncoder):\n",
        "    \n",
        "    def default(self, o):\n",
        "        if isinstance(z, complex):\n",
        "            return {z.__class__.__name__: True, \"real\":z.real, \"imag\":z.imag}\n",
        "        # Let the base class default method handle other objects or raise a TypeError\n",
        "        return JSONEncoder.default(self, o)\n",
        "    \n",
        "z = 5 + 9j\n",
        "zJSON = json.dumps(z, cls=ComplexEncoder)\n",
        "print(zJSON)\n",
        "# or use encoder directly:\n",
        "zJson = ComplexEncoder().encode(z)\n",
        "print(zJSON)"
      ],
      "metadata": {
        "colab": {
          "base_uri": "https://localhost:8080/"
        },
        "id": "OaVF9p1P78A-",
        "outputId": "c9fc61fb-4283-4c8b-f6fd-102a9aa0e76c"
      },
      "execution_count": null,
      "outputs": [
        {
          "output_type": "stream",
          "name": "stdout",
          "text": [
            "{\"complex\": true, \"real\": 5.0, \"imag\": 9.0}\n",
            "{\"complex\": true, \"real\": 5.0, \"imag\": 9.0}\n"
          ]
        }
      ]
    },
    {
      "cell_type": "code",
      "source": [
        "# Possible but decoded as a dictionary\n",
        "z = json.loads(zJSON)\n",
        "print(type(z))\n",
        "print(z)\n",
        "\n",
        "def decode_complex(dct):\n",
        "    if complex.__name__ in dct:\n",
        "        return complex(dct[\"real\"], dct[\"imag\"])\n",
        "    return dct\n",
        "\n",
        "# Now the object is of type complex after decoding\n",
        "z = json.loads(zJSON, object_hook=decode_complex)\n",
        "print(type(z))\n",
        "print(z)\n"
      ],
      "metadata": {
        "colab": {
          "base_uri": "https://localhost:8080/"
        },
        "id": "Argbj9oq8U9H",
        "outputId": "1d3680f1-e6c1-4c63-d8b4-6f9c9c90af8c"
      },
      "execution_count": null,
      "outputs": [
        {
          "output_type": "stream",
          "name": "stdout",
          "text": [
            "<class 'dict'>\n",
            "{'complex': True, 'real': 5.0, 'imag': 9.0}\n",
            "<class 'complex'>\n",
            "(5+9j)\n"
          ]
        }
      ]
    },
    {
      "cell_type": "code",
      "source": [
        "class User:\n",
        "    # Custom class with all instance variables given in the __init__()\n",
        "    def __init__(self, name, age, active, balance, friends):\n",
        "        self.name = name\n",
        "        self.age = age\n",
        "        self.active = active\n",
        "        self.balance = balance\n",
        "        self.friends = friends\n",
        "        \n",
        "class Player:\n",
        "    # Other custom class\n",
        "    def __init__(self, name, nickname, level):\n",
        "        self.name = name\n",
        "        self.nickname = nickname\n",
        "        self.level = level\n",
        "          \n",
        "            \n",
        "def encode_obj(obj):\n",
        "    \"\"\"\n",
        "    Takes in a custom object and returns a dictionary representation of the object.\n",
        "    This dict representation also includes the object's module and class names.\n",
        "    \"\"\"\n",
        "  \n",
        "    #  Populate the dictionary with object meta data \n",
        "    obj_dict = {\n",
        "      \"__class__\": obj.__class__.__name__,\n",
        "      \"__module__\": obj.__module__\n",
        "    }\n",
        "  \n",
        "    #  Populate the dictionary with object properties\n",
        "    obj_dict.update(obj.__dict__)\n",
        "  \n",
        "    return obj_dict\n",
        "\n",
        "\n",
        "def decode_dct(dct):\n",
        "    \"\"\"\n",
        "    Takes in a dict and returns a custom object associated with the dict.\n",
        "    It makes use of the \"__module__\" and \"__class__\" metadata in the dictionary\n",
        "    to know which object type to create.\n",
        "    \"\"\"\n",
        "    if \"__class__\" in dct:\n",
        "        # Pop ensures we remove metadata from the dict to leave only the instance arguments\n",
        "        class_name = dct.pop(\"__class__\")\n",
        "        \n",
        "        # Get the module name from the dict and import it\n",
        "        module_name = dct.pop(\"__module__\")\n",
        "        \n",
        "        # We use the built in __import__ function since the module name is not yet known at runtime\n",
        "        module = __import__(module_name)\n",
        "        \n",
        "        # Get the class from the module\n",
        "        class_ = getattr(module,class_name)\n",
        "\n",
        "        # Use dictionary unpacking to initialize the object\n",
        "        # Note: This only works if all __init__() arguments of the class are exactly the dict keys\n",
        "        obj = class_(**dct)\n",
        "    else:\n",
        "        obj = dct\n",
        "    return obj\n",
        "\n",
        "# User class works with our encoding and decoding methods\n",
        "user = User(name = \"John\",age = 28, friends = [\"Jane\", \"Tom\"], balance = 20.70, active = True)\n",
        "\n",
        "userJSON = json.dumps(user,default=encode_obj,indent=4, sort_keys=True)\n",
        "print(userJSON)\n",
        "\n",
        "user_decoded = json.loads(userJSON, object_hook=decode_dct)\n",
        "print(type(user_decoded))\n",
        "\n",
        "# Player class also works with our custom encoding and decoding\n",
        "player = Player('Max', 'max1234', 5)\n",
        "playerJSON = json.dumps(player,default=encode_obj,indent=4, sort_keys=True)\n",
        "print(playerJSON)\n",
        "\n",
        "player_decoded = json.loads(playerJSON, object_hook=decode_dct)\n",
        "print(type(player_decoded))"
      ],
      "metadata": {
        "colab": {
          "base_uri": "https://localhost:8080/"
        },
        "id": "QVqkS8ve8gfh",
        "outputId": "d63825fd-c72e-4cec-d432-77c39cfb54cd"
      },
      "execution_count": null,
      "outputs": [
        {
          "output_type": "stream",
          "name": "stdout",
          "text": [
            "{\n",
            "    \"__class__\": \"User\",\n",
            "    \"__module__\": \"__main__\",\n",
            "    \"active\": true,\n",
            "    \"age\": 28,\n",
            "    \"balance\": 20.7,\n",
            "    \"friends\": [\n",
            "        \"Jane\",\n",
            "        \"Tom\"\n",
            "    ],\n",
            "    \"name\": \"John\"\n",
            "}\n",
            "<class '__main__.User'>\n",
            "{\n",
            "    \"__class__\": \"Player\",\n",
            "    \"__module__\": \"__main__\",\n",
            "    \"level\": 5,\n",
            "    \"name\": \"Max\",\n",
            "    \"nickname\": \"max1234\"\n",
            "}\n",
            "<class '__main__.Player'>\n"
          ]
        }
      ]
    },
    {
      "cell_type": "markdown",
      "source": [
        "Random Numbers"
      ],
      "metadata": {
        "id": "lvbt3cEs9GPz"
      }
    },
    {
      "cell_type": "code",
      "source": [
        "import random\n",
        "\n",
        "# random float in [0,1)\n",
        "a = random.random()\n",
        "print(a)\n",
        "\n",
        "# random float in range [a,b]\n",
        "a = random.uniform(1,10)\n",
        "print(a)\n",
        "\n",
        "# random integer in range [a,b]. b is included\n",
        "a = random.randint(1,10)\n",
        "print(a)\n",
        "\n",
        "# random integer in range [a,b). b is excluded\n",
        "a = random.randrange(1,10)\n",
        "print(a)\n",
        "\n",
        "# random float from a normal distribution with mu and sigma\n",
        "a = random.normalvariate(0, 1)\n",
        "print(a)\n",
        "\n",
        "# choose a random element from a sequence\n",
        "a = random.choice(list(\"ABCDEFGHI\"))\n",
        "print(a)\n",
        "\n",
        "# choose k unique random elements from a sequence\n",
        "a = random.sample(list(\"ABCDEFGHI\"), 3)\n",
        "print(a)\n",
        "\n",
        "# choose k elements with replacement, and return k sized list\n",
        "a = random.choices(list(\"ABCDEFGHI\"),k=3)\n",
        "print(a)\n",
        "\n",
        "# shuffle list in place\n",
        "a = list(\"ABCDEFGHI\")\n",
        "random.shuffle(a)\n",
        "print(a)"
      ],
      "metadata": {
        "colab": {
          "base_uri": "https://localhost:8080/"
        },
        "id": "OWBsXyLG8n-I",
        "outputId": "677717d2-e446-49b1-cb82-a9c9daa811f1"
      },
      "execution_count": null,
      "outputs": [
        {
          "output_type": "stream",
          "name": "stdout",
          "text": [
            "0.7743145896292802\n",
            "1.8318731058630988\n",
            "2\n",
            "8\n",
            "-1.028865680275252\n",
            "H\n",
            "['A', 'I', 'C']\n",
            "['C', 'I', 'F']\n",
            "['B', 'C', 'G', 'H', 'A', 'E', 'D', 'F', 'I']\n"
          ]
        }
      ]
    },
    {
      "cell_type": "code",
      "source": [
        "print('Seeding with 1...\\n')\n",
        "\n",
        "random.seed(1)\n",
        "print(random.random())\n",
        "print(random.uniform(1,10))\n",
        "print(random.choice(list(\"ABCDEFGHI\")))\n",
        "\n",
        "print('\\nRe-seeding with 42...\\n')\n",
        "random.seed(42)  # Re-seed\n",
        "\n",
        "print(random.random())\n",
        "print(random.uniform(1,10))\n",
        "print(random.choice(list(\"ABCDEFGHI\")))\n",
        "\n",
        "print('\\nRe-seeding with 1...\\n')\n",
        "random.seed(1)  # Re-seed\n",
        "\n",
        "print(random.random())\n",
        "print(random.uniform(1,10))\n",
        "print(random.choice(list(\"ABCDEFGHI\")))\n",
        "\n",
        "print('\\nRe-seeding with 42...\\n')\n",
        "random.seed(42)  # Re-seed\n",
        "\n",
        "print(random.random())\n",
        "print(random.uniform(1,10))\n",
        "print(random.choice(list(\"ABCDEFGHI\")))"
      ],
      "metadata": {
        "colab": {
          "base_uri": "https://localhost:8080/"
        },
        "id": "CIIky6wo9I6V",
        "outputId": "9477abdd-b5db-4baa-fd43-7f0dcf681b6b"
      },
      "execution_count": null,
      "outputs": [
        {
          "output_type": "stream",
          "name": "stdout",
          "text": [
            "Seeding with 1...\n",
            "\n",
            "0.13436424411240122\n",
            "8.626903632435095\n",
            "B\n",
            "\n",
            "Re-seeding with 42...\n",
            "\n",
            "0.6394267984578837\n",
            "1.2250967970040025\n",
            "E\n",
            "\n",
            "Re-seeding with 1...\n",
            "\n",
            "0.13436424411240122\n",
            "8.626903632435095\n",
            "B\n",
            "\n",
            "Re-seeding with 42...\n",
            "\n",
            "0.6394267984578837\n",
            "1.2250967970040025\n",
            "E\n"
          ]
        }
      ]
    },
    {
      "cell_type": "code",
      "source": [
        "import secrets\n",
        "\n",
        "# random integer in range [0, n).\n",
        "a = secrets.randbelow(10)\n",
        "print(a)\n",
        "\n",
        "# return an integer with k random bits.\n",
        "a = secrets.randbits(5)\n",
        "print(a)\n",
        "\n",
        "# choose a random element from a sequence\n",
        "a = secrets.choice(list(\"ABCDEFGHI\"))\n",
        "print(a)"
      ],
      "metadata": {
        "colab": {
          "base_uri": "https://localhost:8080/"
        },
        "id": "_vGk6iWT9WNG",
        "outputId": "1a6edd64-4fcf-4e82-b074-6b48a809ca03"
      },
      "execution_count": null,
      "outputs": [
        {
          "output_type": "stream",
          "name": "stdout",
          "text": [
            "5\n",
            "29\n",
            "G\n"
          ]
        }
      ]
    },
    {
      "cell_type": "code",
      "source": [
        "import numpy as np\n",
        "\n",
        "np.random.seed(1)\n",
        "# rand(d0,d1,…,dn)\n",
        "# generate nd array with random floats, arrays has size (d0,d1,…,dn)\n",
        "print(np.random.rand(3))\n",
        "# reset the seed\n",
        "np.random.seed(1)\n",
        "print(np.random.rand(3))\n",
        "\n",
        "# generate nd array with random integers in range [a,b) with size n\n",
        "values = np.random.randint(0, 10, (5,3))\n",
        "print(values)\n",
        "\n",
        "# generate nd array with Gaussian values, array has size (d0,d1,…,dn)\n",
        "# values from standard normal distribution with mean 0.0 and standard deviation 1.0\n",
        "values = np.random.randn(5)\n",
        "print(values)\n",
        "\n",
        "# randomly shuffle a nd array.\n",
        "# only shuffles the array along the first axis of a multi-dimensional array\n",
        "arr = np.array([[1,2,3], [4,5,6], [7,8,9]])\n",
        "np.random.shuffle(arr)\n",
        "print(arr)"
      ],
      "metadata": {
        "colab": {
          "base_uri": "https://localhost:8080/"
        },
        "id": "2cLYn8KP9rHZ",
        "outputId": "0e04ee84-c406-4840-d6b1-ed6d59c49fb3"
      },
      "execution_count": null,
      "outputs": [
        {
          "output_type": "stream",
          "name": "stdout",
          "text": [
            "[4.17022005e-01 7.20324493e-01 1.14374817e-04]\n",
            "[4.17022005e-01 7.20324493e-01 1.14374817e-04]\n",
            "[[5 0 0]\n",
            " [1 7 6]\n",
            " [9 2 4]\n",
            " [5 2 4]\n",
            " [2 4 7]]\n",
            "[-2.29230928 -1.41555249  0.8858294   0.63190187  0.04026035]\n",
            "[[4 5 6]\n",
            " [7 8 9]\n",
            " [1 2 3]]\n"
          ]
        }
      ]
    },
    {
      "cell_type": "markdown",
      "source": [
        "Decorators"
      ],
      "metadata": {
        "id": "NghT5IAgDjFP"
      }
    },
    {
      "cell_type": "code",
      "source": [
        "def start_end_decorator(func):\n",
        "    \n",
        "    def wrapper():\n",
        "        print('Start')\n",
        "        func()\n",
        "        print('End')\n",
        "    return wrapper\n",
        "\n",
        "def print_name():\n",
        "    print('Alex')\n",
        "    \n",
        "print_name()\n",
        "\n",
        "print()\n",
        "\n",
        "# Now wrap the function by passing it as argument to the decorator function\n",
        "# and asign it to itself -> Our function has extended behaviour!\n",
        "print_name = start_end_decorator(print_name)\n",
        "print_name()"
      ],
      "metadata": {
        "colab": {
          "base_uri": "https://localhost:8080/"
        },
        "id": "eYNoEnSA9uTm",
        "outputId": "dc979d1b-0ea9-4789-b3c9-7b6d0d96f928"
      },
      "execution_count": null,
      "outputs": [
        {
          "output_type": "stream",
          "name": "stdout",
          "text": [
            "Alex\n",
            "\n",
            "Start\n",
            "Alex\n",
            "End\n"
          ]
        }
      ]
    },
    {
      "cell_type": "code",
      "source": [
        "@start_end_decorator\n",
        "def print_name():\n",
        "    print('Alex')\n",
        "    \n",
        "print_name()"
      ],
      "metadata": {
        "colab": {
          "base_uri": "https://localhost:8080/"
        },
        "id": "dd7y70JQDnvI",
        "outputId": "55437a2c-b874-4c25-8b80-7683ccbcebcc"
      },
      "execution_count": null,
      "outputs": [
        {
          "output_type": "stream",
          "name": "stdout",
          "text": [
            "Start\n",
            "Alex\n",
            "End\n"
          ]
        }
      ]
    },
    {
      "cell_type": "code",
      "source": [
        "def start_end_decorator_2(func):\n",
        "    \n",
        "    def wrapper(*args, **kwargs):\n",
        "        print('Start')\n",
        "        func(*args, **kwargs)\n",
        "        print('End')\n",
        "    return wrapper\n",
        "\n",
        "@start_end_decorator_2\n",
        "def add_5(x):\n",
        "    return x + 5\n",
        "\n",
        "result = add_5(10)\n",
        "print(result)"
      ],
      "metadata": {
        "colab": {
          "base_uri": "https://localhost:8080/"
        },
        "id": "BdT10YVRDrM4",
        "outputId": "51379ccb-1d63-46ca-8ea1-a574b377811e"
      },
      "execution_count": null,
      "outputs": [
        {
          "output_type": "stream",
          "name": "stdout",
          "text": [
            "Start\n",
            "End\n",
            "None\n"
          ]
        }
      ]
    },
    {
      "cell_type": "code",
      "source": [
        "def start_end_decorator_3(func):\n",
        "    \n",
        "    def wrapper(*args, **kwargs):\n",
        "        print('Start')\n",
        "        result = func(*args, **kwargs)\n",
        "        print('End')\n",
        "        return result\n",
        "    return wrapper\n",
        "\n",
        "@start_end_decorator_3\n",
        "def add_5(x):\n",
        "    return x + 5\n",
        "\n",
        "result = add_5(10)\n",
        "print(result)"
      ],
      "metadata": {
        "colab": {
          "base_uri": "https://localhost:8080/"
        },
        "id": "Sc-AIfxGDuDa",
        "outputId": "ffeafc53-e46d-4ae3-98d3-173a5145dfb4"
      },
      "execution_count": null,
      "outputs": [
        {
          "output_type": "stream",
          "name": "stdout",
          "text": [
            "Start\n",
            "End\n",
            "15\n"
          ]
        }
      ]
    },
    {
      "cell_type": "code",
      "source": [
        "print(add_5.__name__)\n",
        "help(add_5)"
      ],
      "metadata": {
        "colab": {
          "base_uri": "https://localhost:8080/"
        },
        "id": "GbVt-1RVDzc-",
        "outputId": "8c287eb7-64a2-4c5f-b346-e2b7c101193f"
      },
      "execution_count": null,
      "outputs": [
        {
          "output_type": "stream",
          "name": "stdout",
          "text": [
            "wrapper\n",
            "Help on function wrapper in module __main__:\n",
            "\n",
            "wrapper(*args, **kwargs)\n",
            "\n"
          ]
        }
      ]
    },
    {
      "cell_type": "code",
      "source": [
        "import functools\n",
        "def start_end_decorator_4(func):\n",
        "    \n",
        "    @functools.wraps(func)\n",
        "    def wrapper(*args, **kwargs):\n",
        "        print('Start')\n",
        "        result = func(*args, **kwargs)\n",
        "        print('End')\n",
        "        return result\n",
        "    return wrapper\n",
        "\n",
        "@start_end_decorator_4\n",
        "def add_5(x):\n",
        "    return x + 5\n",
        "result = add_5(10)\n",
        "print(result)\n",
        "print(add_5.__name__)\n",
        "help(add_5)"
      ],
      "metadata": {
        "colab": {
          "base_uri": "https://localhost:8080/"
        },
        "id": "HxgFFBemD8s0",
        "outputId": "6381deec-6497-4932-8cec-04dab1ba60d6"
      },
      "execution_count": null,
      "outputs": [
        {
          "output_type": "stream",
          "name": "stdout",
          "text": [
            "Start\n",
            "End\n",
            "15\n",
            "add_5\n",
            "Help on function add_5 in module __main__:\n",
            "\n",
            "add_5(x)\n",
            "\n"
          ]
        }
      ]
    },
    {
      "cell_type": "code",
      "source": [
        "import functools\n",
        "\n",
        "def my_decorator(func):\n",
        "    @functools.wraps(func)\n",
        "    def wrapper(*args, **kwargs):\n",
        "        # Do something before\n",
        "        result = func(*args, **kwargs)\n",
        "        # Do something after\n",
        "        return result\n",
        "    return wrapper"
      ],
      "metadata": {
        "id": "zClbNoODD_z3"
      },
      "execution_count": null,
      "outputs": []
    },
    {
      "cell_type": "code",
      "source": [
        "def repeat(num_times):\n",
        "    def decorator_repeat(func):\n",
        "        @functools.wraps(func)\n",
        "        def wrapper(*args, **kwargs):\n",
        "            for _ in range(num_times):\n",
        "                result = func(*args, **kwargs)\n",
        "            return result\n",
        "        return wrapper\n",
        "    return decorator_repeat\n",
        "\n",
        "@repeat(num_times=3)\n",
        "def greet(name):\n",
        "    print(f\"Hello {name}\")\n",
        "    \n",
        "greet('Alex')"
      ],
      "metadata": {
        "colab": {
          "base_uri": "https://localhost:8080/"
        },
        "id": "cDKVbJzYEDb2",
        "outputId": "76f4f28e-467c-4aa9-da5a-b7ffed35b013"
      },
      "execution_count": null,
      "outputs": [
        {
          "output_type": "stream",
          "name": "stdout",
          "text": [
            "Hello Alex\n",
            "Hello Alex\n",
            "Hello Alex\n"
          ]
        }
      ]
    },
    {
      "cell_type": "code",
      "source": [
        "# a decorator function that prints debug information about the wrapped function\n",
        "def debug(func):\n",
        "    @functools.wraps(func)\n",
        "    def wrapper(*args, **kwargs):\n",
        "        args_repr = [repr(a) for a in args]\n",
        "        kwargs_repr = [f\"{k}={v!r}\" for k, v in kwargs.items()]\n",
        "        signature = \", \".join(args_repr + kwargs_repr)\n",
        "        print(f\"Calling {func.__name__}({signature})\")\n",
        "        result = func(*args, **kwargs)\n",
        "        print(f\"{func.__name__!r} returned {result!r}\")\n",
        "        return result\n",
        "    return wrapper\n",
        "\n",
        "@debug\n",
        "@start_end_decorator_4\n",
        "def say_hello(name):\n",
        "    greeting = f'Hello {name}'\n",
        "    print(greeting)\n",
        "    return greeting\n",
        "\n",
        "# now `debug` is executed first and calls `@start_end_decorator_4`, which then calls `say_hello`\n",
        "say_hello(name='Alex')"
      ],
      "metadata": {
        "colab": {
          "base_uri": "https://localhost:8080/",
          "height": 122
        },
        "id": "QbbAm9GYEN3I",
        "outputId": "a9eeca93-dd9e-42c7-8df6-ca503c935359"
      },
      "execution_count": null,
      "outputs": [
        {
          "output_type": "stream",
          "name": "stdout",
          "text": [
            "Calling say_hello(name='Alex')\n",
            "Start\n",
            "Hello Alex\n",
            "End\n",
            "'say_hello' returned 'Hello Alex'\n"
          ]
        },
        {
          "output_type": "execute_result",
          "data": {
            "text/plain": [
              "'Hello Alex'"
            ],
            "application/vnd.google.colaboratory.intrinsic+json": {
              "type": "string"
            }
          },
          "metadata": {},
          "execution_count": 24
        }
      ]
    },
    {
      "cell_type": "code",
      "source": [
        "import functools\n",
        "\n",
        "class CountCalls:\n",
        "    # the init needs to have the func as argument and stores it\n",
        "    def __init__(self, func):\n",
        "        functools.update_wrapper(self, func)\n",
        "        self.func = func\n",
        "        self.num_calls = 0\n",
        "    \n",
        "    # extend functionality, execute function, and return the result\n",
        "    def __call__(self, *args, **kwargs):\n",
        "        self.num_calls += 1\n",
        "        print(f\"Call {self.num_calls} of {self.func.__name__!r}\")\n",
        "        return self.func(*args, **kwargs)\n",
        "\n",
        "@CountCalls\n",
        "def say_hello(num):\n",
        "    print(\"Hello!\")\n",
        "    \n",
        "say_hello(5)\n",
        "say_hello(5)"
      ],
      "metadata": {
        "colab": {
          "base_uri": "https://localhost:8080/"
        },
        "id": "mvLdAgwiEQA7",
        "outputId": "59f6600b-e5c4-4d1f-e126-78af608980fa"
      },
      "execution_count": null,
      "outputs": [
        {
          "output_type": "stream",
          "name": "stdout",
          "text": [
            "Call 1 of 'say_hello'\n",
            "Hello!\n",
            "Call 2 of 'say_hello'\n",
            "Hello!\n"
          ]
        }
      ]
    },
    {
      "cell_type": "markdown",
      "source": [
        "Generators"
      ],
      "metadata": {
        "id": "rLW4hCyBGOTK"
      }
    },
    {
      "cell_type": "code",
      "source": [
        "def countdown(num):\n",
        "    print('Starting')\n",
        "    while num > 0:\n",
        "        yield num\n",
        "        num -= 1\n",
        "\n",
        "# this will not print 'Starting'\n",
        "cd = countdown(3)\n",
        "\n",
        "# this will print 'Starting' and the first value\n",
        "print(next(cd))\n",
        "\n",
        "# will print the next values\n",
        "print(next(cd))\n",
        "print(next(cd))\n",
        "\n",
        "# this will raise a StopIteration\n",
        "print(next(cd))"
      ],
      "metadata": {
        "colab": {
          "base_uri": "https://localhost:8080/",
          "height": 269
        },
        "id": "hN_84EcJEgm0",
        "outputId": "a8e10f5b-a5c1-4424-b46f-0ac962cb5bfb"
      },
      "execution_count": null,
      "outputs": [
        {
          "output_type": "stream",
          "name": "stdout",
          "text": [
            "Starting\n",
            "3\n",
            "2\n",
            "1\n"
          ]
        },
        {
          "output_type": "error",
          "ename": "StopIteration",
          "evalue": "ignored",
          "traceback": [
            "\u001b[0;31m---------------------------------------------------------------------------\u001b[0m",
            "\u001b[0;31mStopIteration\u001b[0m                             Traceback (most recent call last)",
            "\u001b[0;32m<ipython-input-26-3941498e0bf0>\u001b[0m in \u001b[0;36m<module>\u001b[0;34m\u001b[0m\n\u001b[1;32m     16\u001b[0m \u001b[0;34m\u001b[0m\u001b[0m\n\u001b[1;32m     17\u001b[0m \u001b[0;31m# this will raise a StopIteration\u001b[0m\u001b[0;34m\u001b[0m\u001b[0;34m\u001b[0m\u001b[0;34m\u001b[0m\u001b[0m\n\u001b[0;32m---> 18\u001b[0;31m \u001b[0mprint\u001b[0m\u001b[0;34m(\u001b[0m\u001b[0mnext\u001b[0m\u001b[0;34m(\u001b[0m\u001b[0mcd\u001b[0m\u001b[0;34m)\u001b[0m\u001b[0;34m)\u001b[0m\u001b[0;34m\u001b[0m\u001b[0;34m\u001b[0m\u001b[0m\n\u001b[0m",
            "\u001b[0;31mStopIteration\u001b[0m: "
          ]
        }
      ]
    },
    {
      "cell_type": "code",
      "source": [
        "# you can iterate over a generator object with a for in loop\n",
        "cd = countdown(3)\n",
        "for x in cd:\n",
        "    print(x)"
      ],
      "metadata": {
        "colab": {
          "base_uri": "https://localhost:8080/"
        },
        "id": "wwARBJHmGQdW",
        "outputId": "772c52e3-5467-47c1-9cc8-796d6c8a3ff4"
      },
      "execution_count": null,
      "outputs": [
        {
          "output_type": "stream",
          "name": "stdout",
          "text": [
            "Starting\n",
            "3\n",
            "2\n",
            "1\n"
          ]
        }
      ]
    },
    {
      "cell_type": "code",
      "source": [
        "# you can use it for functions that take iterables as input\n",
        "cd = countdown(3)\n",
        "sum_cd = sum(cd)\n",
        "print(sum_cd)\n",
        "\n",
        "cd = countdown(3)\n",
        "sorted_cd = sorted(cd)\n",
        "print(sorted_cd)"
      ],
      "metadata": {
        "colab": {
          "base_uri": "https://localhost:8080/"
        },
        "id": "utaq_A9tGSuV",
        "outputId": "50910af0-d215-47e3-9a55-26ed77875871"
      },
      "execution_count": null,
      "outputs": [
        {
          "output_type": "stream",
          "name": "stdout",
          "text": [
            "Starting\n",
            "6\n",
            "Starting\n",
            "[1, 2, 3]\n"
          ]
        }
      ]
    },
    {
      "cell_type": "code",
      "source": [
        "# without a generator, the complete sequence has to be stored here in a list\n",
        "def firstn(n):\n",
        "    num, nums = 0, []\n",
        "    while num < n:\n",
        "        nums.append(num)\n",
        "        num += 1\n",
        "    return nums\n",
        "\n",
        "sum_of_first_n = sum(firstn(1000000))\n",
        "print(sum_of_first_n)\n",
        "import sys\n",
        "print(sys.getsizeof(firstn(1000000)), \"bytes\")"
      ],
      "metadata": {
        "colab": {
          "base_uri": "https://localhost:8080/"
        },
        "id": "zhnPVPhsGUp0",
        "outputId": "89888a9f-fd21-4b8c-ea64-3df70f108b68"
      },
      "execution_count": null,
      "outputs": [
        {
          "output_type": "stream",
          "name": "stdout",
          "text": [
            "499999500000\n",
            "8697472 bytes\n"
          ]
        }
      ]
    },
    {
      "cell_type": "code",
      "source": [
        "# with a generator, no additional sequence is needed to store the numbers\n",
        "def firstn(n):\n",
        "    num = 0\n",
        "    while num < n:\n",
        "        yield num\n",
        "        num += 1\n",
        "\n",
        "sum_of_first_n = sum(firstn(1000000))\n",
        "print(sum_of_first_n)\n",
        "import sys\n",
        "print(sys.getsizeof(firstn(1000000)), \"bytes\")"
      ],
      "metadata": {
        "colab": {
          "base_uri": "https://localhost:8080/"
        },
        "id": "Ir42BD-BGXtL",
        "outputId": "3889ebbe-15a0-435d-a3d4-fd6f004b5efe"
      },
      "execution_count": null,
      "outputs": [
        {
          "output_type": "stream",
          "name": "stdout",
          "text": [
            "499999500000\n",
            "128 bytes\n"
          ]
        }
      ]
    },
    {
      "cell_type": "code",
      "source": [
        "def fibonacci(limit):\n",
        "    a, b = 0, 1 # first two fibonacci numbers\n",
        "    while a < limit:\n",
        "        yield a\n",
        "        a, b = b, a + b\n",
        "\n",
        "fib = fibonacci(30)\n",
        "# generator objects can be converted to a list (only used for printing here)\n",
        "print(list(fib))"
      ],
      "metadata": {
        "colab": {
          "base_uri": "https://localhost:8080/"
        },
        "id": "DHixf-n9GZR4",
        "outputId": "90feb4c1-b237-4f10-8311-e811fb92fb5c"
      },
      "execution_count": null,
      "outputs": [
        {
          "output_type": "stream",
          "name": "stdout",
          "text": [
            "[0, 1, 1, 2, 3, 5, 8, 13, 21]\n"
          ]
        }
      ]
    },
    {
      "cell_type": "code",
      "source": [
        "# generator expression\n",
        "mygenerator = (i for i in range(1000) if i % 2 == 0)\n",
        "print(sys.getsizeof(mygenerator))\n",
        "\n",
        "# list comprehension\n",
        "mylist = [i for i in range(1000) if i % 2 == 0]\n",
        "print(sys.getsizeof(mylist))"
      ],
      "metadata": {
        "colab": {
          "base_uri": "https://localhost:8080/"
        },
        "id": "cLOHUCQGGb-h",
        "outputId": "bb1373a2-1fe7-4a77-e323-8dde06ef4d44"
      },
      "execution_count": null,
      "outputs": [
        {
          "output_type": "stream",
          "name": "stdout",
          "text": [
            "128\n",
            "4280\n"
          ]
        }
      ]
    },
    {
      "cell_type": "code",
      "source": [
        "class firstn:\n",
        "    def __init__(self, n):\n",
        "        self.n = n\n",
        "        self.num = 0\n",
        "        \n",
        "    def __iter__(self):\n",
        "        return self\n",
        "    \n",
        "    def __next__(self):\n",
        "        if self.num < self.n:\n",
        "            cur = self.num\n",
        "            self.num += 1\n",
        "            return cur\n",
        "        else:\n",
        "            raise StopIteration()\n",
        "             \n",
        "firstn_object = firstn(1000000)\n",
        "print(sum(firstn_object))"
      ],
      "metadata": {
        "colab": {
          "base_uri": "https://localhost:8080/"
        },
        "id": "4EeskfpfGdi7",
        "outputId": "8c54807d-eb04-487a-e13a-483ffa2cadd8"
      },
      "execution_count": null,
      "outputs": [
        {
          "output_type": "stream",
          "name": "stdout",
          "text": [
            "499999500000\n"
          ]
        }
      ]
    },
    {
      "cell_type": "markdown",
      "source": [
        "Threading v/s Multiprocessing"
      ],
      "metadata": {
        "id": "PzsMGlIhGyrJ"
      }
    },
    {
      "cell_type": "code",
      "source": [
        "from threading import Thread\n",
        "\n",
        "def square_numbers():\n",
        "    for i in range(1000):\n",
        "        result = i * i\n",
        "\n",
        "        \n",
        "if __name__ == \"__main__\":        \n",
        "    threads = []\n",
        "    num_threads = 10\n",
        "\n",
        "    # create threads and asign a function for each thread\n",
        "    for i in range(num_threads):\n",
        "        thread = Thread(target=square_numbers)\n",
        "        threads.append(thread)\n",
        "\n",
        "    # start all threads\n",
        "    for thread in threads:\n",
        "        thread.start()\n",
        "\n",
        "    # wait for all threads to finish\n",
        "    # block the main thread until these threads are finished\n",
        "    for thread in threads:\n",
        "        thread.join()"
      ],
      "metadata": {
        "id": "oXBsolY9GhEf"
      },
      "execution_count": null,
      "outputs": []
    },
    {
      "cell_type": "code",
      "source": [
        "from multiprocessing import Process\n",
        "import os\n",
        "\n",
        "\n",
        "def square_numbers():\n",
        "    for i in range(1000):\n",
        "        result = i * i\n",
        "\n",
        "\n",
        "if __name__ == \"__main__\":\n",
        "    processes = []\n",
        "    num_processes = os.cpu_count()\n",
        "\n",
        "    # create processes and asign a function for each process\n",
        "    for i in range(num_processes):\n",
        "        process = Process(target=square_numbers)\n",
        "        processes.append(process)\n",
        "\n",
        "    # start all processes\n",
        "    for process in processes:\n",
        "        process.start()\n",
        "\n",
        "    # wait for all processes to finish\n",
        "    # block the main thread until these processes are finished\n",
        "    for process in processes:\n",
        "        process.join()"
      ],
      "metadata": {
        "id": "ynJRWyLyIDLZ"
      },
      "execution_count": null,
      "outputs": []
    },
    {
      "cell_type": "markdown",
      "source": [
        "Threading in Python"
      ],
      "metadata": {
        "id": "5QjErNX8IT6Y"
      }
    },
    {
      "cell_type": "code",
      "source": [
        "from threading import Thread\n",
        "\n",
        "def square_numbers():\n",
        "    for i in range(1000):\n",
        "        result = i * i\n",
        "\n",
        "        \n",
        "if __name__ == \"__main__\":        \n",
        "    threads = []\n",
        "    num_threads = 10\n",
        "\n",
        "    # create threads and asign a function for each thread\n",
        "    for i in range(num_threads):\n",
        "        thread = Thread(target=square_numbers)\n",
        "        threads.append(thread)\n",
        "\n",
        "    # start all threads\n",
        "    for thread in threads:\n",
        "        thread.start()\n",
        "\n",
        "    # wait for all threads to finish\n",
        "    # block the main thread until these threads are finished\n",
        "    for thread in threads:\n",
        "        thread.join()"
      ],
      "metadata": {
        "id": "LFdDveaSIFen"
      },
      "execution_count": null,
      "outputs": []
    },
    {
      "cell_type": "code",
      "source": [
        "from threading import Thread\n",
        "import time\n",
        "\n",
        "\n",
        "# all threads can access this global variable\n",
        "database_value = 0\n",
        "\n",
        "def increase():\n",
        "    global database_value # needed to modify the global value\n",
        "    \n",
        "    # get a local copy (simulate data retrieving)\n",
        "    local_copy = database_value\n",
        "        \n",
        "    # simulate some modifying operation\n",
        "    local_copy += 1\n",
        "    time.sleep(0.1)\n",
        "        \n",
        "    # write the calculated new value into the global variable\n",
        "    database_value = local_copy\n",
        "\n",
        "\n",
        "if __name__ == \"__main__\":\n",
        "\n",
        "    print('Start value: ', database_value)\n",
        "\n",
        "    t1 = Thread(target=increase)\n",
        "    t2 = Thread(target=increase)\n",
        "\n",
        "    t1.start()\n",
        "    t2.start()\n",
        "\n",
        "    t1.join()\n",
        "    t2.join()\n",
        "\n",
        "    print('End value:', database_value)\n",
        "\n",
        "    print('end main')"
      ],
      "metadata": {
        "colab": {
          "base_uri": "https://localhost:8080/"
        },
        "id": "0W6NDkcqIWVE",
        "outputId": "d5c7fb0c-da9e-40cb-8feb-c256641585e6"
      },
      "execution_count": null,
      "outputs": [
        {
          "output_type": "stream",
          "name": "stdout",
          "text": [
            "Start value:  0\n",
            "End value: 1\n",
            "end main\n"
          ]
        }
      ]
    },
    {
      "cell_type": "code",
      "source": [
        "# import Lock\n",
        "from threading import Thread, Lock\n",
        "import time\n",
        "\n",
        "\n",
        "database_value = 0\n",
        "\n",
        "def increase(lock):\n",
        "    global database_value \n",
        "    \n",
        "    # lock the state\n",
        "    lock.acquire()\n",
        "    \n",
        "    local_copy = database_value\n",
        "    local_copy += 1\n",
        "    time.sleep(0.1)\n",
        "    database_value = local_copy\n",
        "    \n",
        "    # unlock the state\n",
        "    lock.release()\n",
        "\n",
        "\n",
        "if __name__ == \"__main__\":\n",
        "\n",
        "    # create a lock\n",
        "    lock = Lock()\n",
        "    \n",
        "    print('Start value: ', database_value)\n",
        "\n",
        "    # pass the lock to the target function\n",
        "    t1 = Thread(target=increase, args=(lock,)) # notice the comma after lock since args must be a tuple\n",
        "    t2 = Thread(target=increase, args=(lock,))\n",
        "\n",
        "    t1.start()\n",
        "    t2.start()\n",
        "\n",
        "    t1.join()\n",
        "    t2.join()\n",
        "\n",
        "    print('End value:', database_value)\n",
        "\n",
        "    print('end main')"
      ],
      "metadata": {
        "colab": {
          "base_uri": "https://localhost:8080/"
        },
        "id": "PWnoJeXxJIso",
        "outputId": "bb5a181d-95a0-4c18-b111-8813fcff0312"
      },
      "execution_count": null,
      "outputs": [
        {
          "output_type": "stream",
          "name": "stdout",
          "text": [
            "Start value:  0\n",
            "End value: 2\n",
            "end main\n"
          ]
        }
      ]
    },
    {
      "cell_type": "code",
      "source": [
        "def increase(lock):\n",
        "    global database_value \n",
        "    \n",
        "    with lock: \n",
        "        local_copy = database_value\n",
        "        local_copy += 1\n",
        "        time.sleep(0.1)\n",
        "        database_value = local_copy"
      ],
      "metadata": {
        "id": "1fPs8vRsJLWR"
      },
      "execution_count": null,
      "outputs": []
    },
    {
      "cell_type": "code",
      "source": [
        "\n",
        "from queue import Queue\n",
        "\n",
        "# create queue\n",
        "q = Queue()\n",
        "\n",
        "# add elements\n",
        "q.put(1) # 1\n",
        "q.put(2) # 2 1\n",
        "q.put(3) # 3 2 1 \n",
        "\n",
        "# now q looks like this:\n",
        "# back --> 3 2 1 --> front\n",
        "\n",
        "# get and remove first element\n",
        "first = q.get() # --> 1\n",
        "print(first) "
      ],
      "metadata": {
        "colab": {
          "base_uri": "https://localhost:8080/"
        },
        "id": "U4SnPYKvJNYl",
        "outputId": "67db1cde-65e3-4928-8b5d-b9fd3af82952"
      },
      "execution_count": null,
      "outputs": [
        {
          "output_type": "stream",
          "name": "stdout",
          "text": [
            "1\n"
          ]
        }
      ]
    },
    {
      "cell_type": "code",
      "source": [
        "\n",
        "from threading import Thread, Lock, current_thread\n",
        "from queue import Queue\n",
        "\n",
        "def worker(q, lock):\n",
        "    while True:\n",
        "        value = q.get()  # blocks until the item is available\n",
        "\n",
        "        # do stuff...\n",
        "        with lock:\n",
        "            # prevent printing at the same time with this lock\n",
        "            print(f\"in {current_thread().name} got {value}\")\n",
        "        # ...\n",
        "\n",
        "        # For each get(), a subsequent call to task_done() tells the queue\n",
        "        # that the processing on this item is complete.\n",
        "        # If all tasks are done, q.join() can unblock\n",
        "        q.task_done()\n",
        "\n",
        "\n",
        "if __name__ == '__main__':\n",
        "    q = Queue()\n",
        "    num_threads = 10\n",
        "    lock = Lock()\n",
        "\n",
        "    for i in range(num_threads):\n",
        "        t = Thread(name=f\"Thread{i+1}\", target=worker, args=(q, lock))\n",
        "        t.daemon = True  # dies when the main thread dies\n",
        "        t.start()\n",
        "    \n",
        "    # fill the queue with items\n",
        "    for x in range(20):\n",
        "        q.put(x)\n",
        "\n",
        "    q.join()  # Blocks until all items in the queue have been gotten and processed.\n",
        "\n",
        "    print('main done')"
      ],
      "metadata": {
        "colab": {
          "base_uri": "https://localhost:8080/"
        },
        "id": "PVpAIiHTJPdw",
        "outputId": "e927a4db-9d01-4efa-e0a0-b15d47e9d099"
      },
      "execution_count": null,
      "outputs": [
        {
          "output_type": "stream",
          "name": "stdout",
          "text": [
            "in Thread2 got 0\n",
            "in Thread2 got 1\n",
            "in Thread2 got 2\n",
            "in Thread2 got 3\n",
            "in Thread2 got 4\n",
            "in Thread2 got 5\n",
            "in Thread2 got 6\n",
            "in Thread2 got 7\n",
            "in Thread2 got 8\n",
            "in Thread2 got 9\n",
            "in Thread2 got 10\n",
            "in Thread2 got 11\n",
            "in Thread2 got 12\n",
            "in Thread2 got 13\n",
            "in Thread2 got 14\n",
            "in Thread2 got 15\n",
            "in Thread2 got 16\n",
            "in Thread2 got 17\n",
            "in Thread2 got 18\n",
            "in Thread2 got 19\n",
            "main done\n"
          ]
        }
      ]
    },
    {
      "cell_type": "markdown",
      "source": [
        "Multiprocessing"
      ],
      "metadata": {
        "id": "IigBs_WRJXEv"
      }
    },
    {
      "cell_type": "code",
      "source": [
        "from multiprocessing import Process\n",
        "import os\n",
        "\n",
        "def square_numbers():\n",
        "    for i in range(1000):\n",
        "        result = i * i\n",
        "\n",
        "        \n",
        "if __name__ == \"__main__\":        \n",
        "    processes = []\n",
        "    num_processes = os.cpu_count()\n",
        "    # number of CPUs on the machine. Usually a good choise for the number of processes\n",
        "\n",
        "    # create processes and asign a function for each process\n",
        "    for i in range(num_processes):\n",
        "        process = Process(target=square_numbers)\n",
        "        processes.append(process)\n",
        "\n",
        "    # start all processes\n",
        "    for process in processes:\n",
        "        process.start()\n",
        "\n",
        "    # wait for all processes to finish\n",
        "    # block the main programm until these processes are finished\n",
        "    for process in processes:\n",
        "        process.join()"
      ],
      "metadata": {
        "id": "pFgNb_JYJRlu"
      },
      "execution_count": null,
      "outputs": []
    },
    {
      "cell_type": "code",
      "source": [
        "from multiprocessing import Process, Value, Array\n",
        "import time\n",
        "\n",
        "def add_100(number):\n",
        "    for _ in range(100):\n",
        "        time.sleep(0.01)\n",
        "        number.value += 1\n",
        "\n",
        "def add_100_array(numbers):\n",
        "    for _ in range(100):\n",
        "        time.sleep(0.01)\n",
        "        for i in range(len(numbers)):\n",
        "            numbers[i] += 1\n",
        "\n",
        "\n",
        "if __name__ == \"__main__\":\n",
        "\n",
        "    shared_number = Value('i', 0) \n",
        "    print('Value at beginning:', shared_number.value)\n",
        "\n",
        "    shared_array = Array('d', [0.0, 100.0, 200.0])\n",
        "    print('Array at beginning:', shared_array[:])\n",
        "\n",
        "    process1 = Process(target=add_100, args=(shared_number,))\n",
        "    process2 = Process(target=add_100, args=(shared_number,))\n",
        "\n",
        "    process3 = Process(target=add_100_array, args=(shared_array,))\n",
        "    process4 = Process(target=add_100_array, args=(shared_array,))\n",
        "\n",
        "    process1.start()\n",
        "    process2.start()\n",
        "    process3.start()\n",
        "    process4.start()\n",
        "\n",
        "    process1.join()\n",
        "    process2.join()\n",
        "    process3.join()\n",
        "    process4.join()\n",
        "\n",
        "    print('Value at end:', shared_number.value)\n",
        "    print('Array at end:', shared_array[:])\n",
        "\n",
        "    print('end main')\n"
      ],
      "metadata": {
        "id": "19tGvzfVJkGr",
        "colab": {
          "base_uri": "https://localhost:8080/"
        },
        "outputId": "3fe75898-7e84-4442-e89c-03e815841975"
      },
      "execution_count": 1,
      "outputs": [
        {
          "output_type": "stream",
          "name": "stdout",
          "text": [
            "Value at beginning: 0\n",
            "Array at beginning: [0.0, 100.0, 200.0]\n",
            "Value at end: 197\n",
            "Array at end: [200.0, 300.0, 399.0]\n",
            "end main\n"
          ]
        }
      ]
    },
    {
      "cell_type": "code",
      "source": [
        "# import Lock\n",
        "from multiprocessing import Lock\n",
        "from multiprocessing import Process, Value, Array\n",
        "import time\n",
        "\n",
        "def add_100(number, lock):\n",
        "    for _ in range(100):\n",
        "        time.sleep(0.01)\n",
        "        # lock the state\n",
        "        lock.acquire()\n",
        "        \n",
        "        number.value += 1\n",
        "        \n",
        "        # unlock the state\n",
        "        lock.release()\n",
        "\n",
        "def add_100_array(numbers, lock):\n",
        "    for _ in range(100):\n",
        "        time.sleep(0.01)\n",
        "        for i in range(len(numbers)):\n",
        "            lock.acquire()\n",
        "            numbers[i] += 1\n",
        "            lock.release()\n",
        "\n",
        "\n",
        "if __name__ == \"__main__\":\n",
        "\n",
        "    # create a lock\n",
        "    lock = Lock()\n",
        "    \n",
        "    shared_number = Value('i', 0) \n",
        "    print('Value at beginning:', shared_number.value)\n",
        "\n",
        "    shared_array = Array('d', [0.0, 100.0, 200.0])\n",
        "    print('Array at beginning:', shared_array[:])\n",
        "\n",
        "    # pass the lock to the target function\n",
        "    process1 = Process(target=add_100, args=(shared_number, lock))\n",
        "    process2 = Process(target=add_100, args=(shared_number, lock))\n",
        "\n",
        "    process3 = Process(target=add_100_array, args=(shared_array, lock))\n",
        "    process4 = Process(target=add_100_array, args=(shared_array, lock))\n",
        "\n",
        "    process1.start()\n",
        "    process2.start()\n",
        "    process3.start()\n",
        "    process4.start()\n",
        "\n",
        "    process1.join()\n",
        "    process2.join()\n",
        "    process3.join()\n",
        "    process4.join()\n",
        "\n",
        "    print('Value at end:', shared_number.value)\n",
        "    print('Array at end:', shared_array[:])\n",
        "\n",
        "    print('end main')"
      ],
      "metadata": {
        "colab": {
          "base_uri": "https://localhost:8080/"
        },
        "id": "v27yEhSDE3KH",
        "outputId": "ba7eef42-1151-4be9-aa6a-da4699c5769e"
      },
      "execution_count": 2,
      "outputs": [
        {
          "output_type": "stream",
          "name": "stdout",
          "text": [
            "Value at beginning: 0\n",
            "Array at beginning: [0.0, 100.0, 200.0]\n",
            "Value at end: 200\n",
            "Array at end: [200.0, 300.0, 400.0]\n",
            "end main\n"
          ]
        }
      ]
    },
    {
      "cell_type": "code",
      "source": [
        "def add_100(number, lock):\n",
        "    for _ in range(100):\n",
        "        time.sleep(0.01)\n",
        "        with lock:\n",
        "            number.value += 1"
      ],
      "metadata": {
        "id": "7r3WqeTqGkyV"
      },
      "execution_count": 3,
      "outputs": []
    },
    {
      "cell_type": "code",
      "source": [
        "from multiprocessing import Queue\n",
        "\n",
        "# create queue\n",
        "q = Queue()\n",
        "\n",
        "# add elements\n",
        "q.put(1) # 1\n",
        "q.put(2) # 2 1\n",
        "q.put(3) # 3 2 1 \n",
        "\n",
        "# get and remove first element\n",
        "first = q.get() # --> 1\n",
        "print(first) "
      ],
      "metadata": {
        "colab": {
          "base_uri": "https://localhost:8080/"
        },
        "id": "V8q4rblVGohV",
        "outputId": "4a53a12f-1212-4d18-fbec-a350b8c332c2"
      },
      "execution_count": 4,
      "outputs": [
        {
          "output_type": "stream",
          "name": "stdout",
          "text": [
            "1\n"
          ]
        }
      ]
    },
    {
      "cell_type": "code",
      "source": [
        "from multiprocessing import Process, Queue\n",
        "\n",
        "def square(numbers, queue):\n",
        "    for i in numbers:\n",
        "        queue.put(i*i)\n",
        "\n",
        "def make_negative(numbers, queue):\n",
        "    for i in numbers:\n",
        "        queue.put(i*-1)\n",
        "\n",
        "if __name__ == \"__main__\":\n",
        "    \n",
        "    numbers = range(1, 6)\n",
        "    q = Queue()\n",
        "\n",
        "    p1 = Process(target=square, args=(numbers,q))\n",
        "    p2 = Process(target=make_negative, args=(numbers,q))\n",
        "\n",
        "    p1.start()\n",
        "    p2.start()\n",
        "\n",
        "    p1.join()\n",
        "    p2.join()\n",
        "\n",
        "    # order might not be sequential\n",
        "    while not q.empty():\n",
        "        print(q.get())\n",
        "        \n",
        "    print('end main')"
      ],
      "metadata": {
        "colab": {
          "base_uri": "https://localhost:8080/"
        },
        "id": "w2Q2vkNFG0QV",
        "outputId": "46f973c2-103c-48e5-cef5-b12b01cff2e9"
      },
      "execution_count": 5,
      "outputs": [
        {
          "output_type": "stream",
          "name": "stdout",
          "text": [
            "1\n",
            "4\n",
            "9\n",
            "16\n",
            "25\n",
            "-1\n",
            "-2\n",
            "-3\n",
            "-4\n",
            "-5\n",
            "end main\n"
          ]
        }
      ]
    },
    {
      "cell_type": "code",
      "source": [
        "from multiprocessing import Pool \n",
        "def cube(number):\n",
        "    return number * number * number\n",
        "    \n",
        "if __name__ == \"__main__\":\n",
        "    numbers = range(10)    \n",
        "    p = Pool()\n",
        "    result = p.map(cube,  numbers)   \n",
        "    p.close()\n",
        "    p.join()   \n",
        "    print(result)"
      ],
      "metadata": {
        "colab": {
          "base_uri": "https://localhost:8080/"
        },
        "id": "uY5l4qQ_G_5V",
        "outputId": "3d73c617-0209-44d1-f1f2-42c3121cf210"
      },
      "execution_count": 6,
      "outputs": [
        {
          "output_type": "stream",
          "name": "stdout",
          "text": [
            "[0, 1, 8, 27, 64, 125, 216, 343, 512, 729]\n"
          ]
        }
      ]
    },
    {
      "cell_type": "markdown",
      "source": [
        "Function Argument"
      ],
      "metadata": {
        "id": "C_wMkdSFIrIm"
      }
    },
    {
      "cell_type": "code",
      "source": [
        "def print_name(name): # name is the parameter\n",
        "    print(name)\n",
        "\n",
        "print_name('Prateek') # 'Prateek' is the argument"
      ],
      "metadata": {
        "colab": {
          "base_uri": "https://localhost:8080/"
        },
        "id": "Sza728h1Ha2S",
        "outputId": "f1891496-5973-4c11-d5d0-a3b699539259"
      },
      "execution_count": 7,
      "outputs": [
        {
          "output_type": "stream",
          "name": "stdout",
          "text": [
            "Prateek\n"
          ]
        }
      ]
    },
    {
      "cell_type": "code",
      "source": [
        "def foo(a, b, c):\n",
        "    print(a, b, c)\n",
        "    \n",
        "# positional arguments\n",
        "foo(1, 2, 3)\n",
        "\n",
        "# keyword arguments\n",
        "foo(a=1, b=2, c=3)\n",
        "foo(c=3, b=2, a=1) # Note that the order is not important here\n",
        "\n",
        "# mix of both\n",
        "foo(1, b=2, c=3)"
      ],
      "metadata": {
        "colab": {
          "base_uri": "https://localhost:8080/"
        },
        "id": "AWCOYloDIxmk",
        "outputId": "92462d90-4d87-41cd-a9ac-e6f6ecfc5494"
      },
      "execution_count": 8,
      "outputs": [
        {
          "output_type": "stream",
          "name": "stdout",
          "text": [
            "1 2 3\n",
            "1 2 3\n",
            "1 2 3\n",
            "1 2 3\n"
          ]
        }
      ]
    },
    {
      "cell_type": "code",
      "source": [
        "# default arguments\n",
        "def foo(a, b, c, d=4):\n",
        "    print(a, b, c, d)\n",
        "\n",
        "foo(1, 2, 3, 4)\n",
        "foo(1, b=2, c=3, d=100)"
      ],
      "metadata": {
        "colab": {
          "base_uri": "https://localhost:8080/"
        },
        "id": "LMNZ59sfI2JJ",
        "outputId": "5b747dc2-2c96-467e-ca6d-ab7f8dc0d0a8"
      },
      "execution_count": 9,
      "outputs": [
        {
          "output_type": "stream",
          "name": "stdout",
          "text": [
            "1 2 3 4\n",
            "1 2 3 100\n"
          ]
        }
      ]
    },
    {
      "cell_type": "code",
      "source": [
        "def foo(a, b, *args, **kwargs):\n",
        "    print(a, b)\n",
        "    for arg in args:\n",
        "        print(arg)\n",
        "    for kwarg in kwargs:\n",
        "        print(kwarg, kwargs[kwarg])\n",
        "\n",
        "foo(1, 2, 3, 4, 5, six=6, seven=7)\n",
        "print()\n",
        "\n",
        "# omitting of args or kwargs is also possible\n",
        "foo(1, 2, three=3)"
      ],
      "metadata": {
        "colab": {
          "base_uri": "https://localhost:8080/"
        },
        "id": "sgzl12DCJNfT",
        "outputId": "49d39798-e781-4143-95df-0d28c259393f"
      },
      "execution_count": 10,
      "outputs": [
        {
          "output_type": "stream",
          "name": "stdout",
          "text": [
            "1 2\n",
            "3\n",
            "4\n",
            "5\n",
            "six 6\n",
            "seven 7\n",
            "\n",
            "1 2\n",
            "three 3\n"
          ]
        }
      ]
    },
    {
      "cell_type": "code",
      "source": [
        "def foo(a, b, *, c, d):\n",
        "    print(a, b, c, d)\n",
        "\n",
        "foo(1, 2, c=3, d=4)\n",
        "\n",
        "# arguments after variable-length arguments must be keyword arguments\n",
        "def foo(*args, last):\n",
        "    for arg in args:\n",
        "        print(arg)\n",
        "    print(last)\n",
        "\n",
        "foo(8, 9, 10, last=50)"
      ],
      "metadata": {
        "colab": {
          "base_uri": "https://localhost:8080/"
        },
        "id": "3PM-XlwPJTGz",
        "outputId": "bfafb3f9-6f2e-470a-877a-ced6c75c964c"
      },
      "execution_count": 11,
      "outputs": [
        {
          "output_type": "stream",
          "name": "stdout",
          "text": [
            "1 2 3 4\n",
            "8\n",
            "9\n",
            "10\n",
            "50\n"
          ]
        }
      ]
    },
    {
      "cell_type": "code",
      "source": [
        "def foo(a, b, c):\n",
        "    print(a, b, c)\n",
        "\n",
        "\n",
        "# list/tuple unpacking, length must match\n",
        "my_list = [4, 5, 6] # or tuple\n",
        "foo(*my_list)\n",
        "\n",
        "# dict unpacking, keys and length must match\n",
        "my_dict = {'a': 1, 'b': 2, 'c': 3}\n",
        "foo(**my_dict)"
      ],
      "metadata": {
        "colab": {
          "base_uri": "https://localhost:8080/"
        },
        "id": "Q8ersiRFJX0a",
        "outputId": "4c503fd7-0719-43c4-c4db-26d1c58a64d5"
      },
      "execution_count": 12,
      "outputs": [
        {
          "output_type": "stream",
          "name": "stdout",
          "text": [
            "4 5 6\n",
            "1 2 3\n"
          ]
        }
      ]
    },
    {
      "cell_type": "code",
      "source": [
        "def foo1():\n",
        "    x = number # global variable can only be accessed here\n",
        "    print('number in function:', x)\n",
        "\n",
        "number = 0\n",
        "foo1()\n",
        "\n",
        "# modifying the global variable\n",
        "def foo2():\n",
        "    global number # global variable can now be accessed and modified\n",
        "    number = 3\n",
        "\n",
        "print('number before foo2(): ', number)\n",
        "foo2() # modifies the global variable\n",
        "print('number after foo2(): ', number)"
      ],
      "metadata": {
        "colab": {
          "base_uri": "https://localhost:8080/"
        },
        "id": "gDLYsc8qJal7",
        "outputId": "87e6118d-1754-43ca-c674-2c27b535094c"
      },
      "execution_count": 13,
      "outputs": [
        {
          "output_type": "stream",
          "name": "stdout",
          "text": [
            "number in function: 0\n",
            "number before foo2():  0\n",
            "number after foo2():  3\n"
          ]
        }
      ]
    },
    {
      "cell_type": "code",
      "source": [
        "number = 0\n",
        "\n",
        "def foo3():\n",
        "    number = 3 # this is a local variable\n",
        "\n",
        "print('number before foo3(): ', number)\n",
        "foo3() # does not modify the global variable\n",
        "print('number after foo3(): ', number)"
      ],
      "metadata": {
        "colab": {
          "base_uri": "https://localhost:8080/"
        },
        "id": "WyIb_WwPJdNK",
        "outputId": "4163e99e-2bbb-4b3c-9c4a-8ec0b8fce508"
      },
      "execution_count": 14,
      "outputs": [
        {
          "output_type": "stream",
          "name": "stdout",
          "text": [
            "number before foo3():  0\n",
            "number after foo3():  0\n"
          ]
        }
      ]
    },
    {
      "cell_type": "code",
      "source": [
        "def foo(x):\n",
        "    x = 5 # x += 5 also no effect since x is immutable and a new variable must be created\n",
        "\n",
        "var = 10\n",
        "print('var before foo():', var)\n",
        "foo(var)\n",
        "print('var after foo():', var)"
      ],
      "metadata": {
        "colab": {
          "base_uri": "https://localhost:8080/"
        },
        "id": "TIpWRs09JgY6",
        "outputId": "ded6846d-b915-434c-9ea3-7c419f274371"
      },
      "execution_count": 15,
      "outputs": [
        {
          "output_type": "stream",
          "name": "stdout",
          "text": [
            "var before foo(): 10\n",
            "var after foo(): 10\n"
          ]
        }
      ]
    },
    {
      "cell_type": "code",
      "source": [
        "def foo(a_list):\n",
        "    a_list.append(4)\n",
        "    \n",
        "my_list = [1, 2, 3]\n",
        "print('my_list before foo():', my_list)\n",
        "foo(my_list)\n",
        "print('my_list after foo():', my_list)"
      ],
      "metadata": {
        "colab": {
          "base_uri": "https://localhost:8080/"
        },
        "id": "zcw5H4SoJlNj",
        "outputId": "7e517a61-0dd9-4d70-f336-64c167cf29d7"
      },
      "execution_count": 16,
      "outputs": [
        {
          "output_type": "stream",
          "name": "stdout",
          "text": [
            "my_list before foo(): [1, 2, 3]\n",
            "my_list after foo(): [1, 2, 3, 4]\n"
          ]
        }
      ]
    },
    {
      "cell_type": "code",
      "source": [
        "def foo(a_list):\n",
        "    a_list[0] = -100\n",
        "    a_list[2] = \"Paul\"\n",
        "    \n",
        "my_list = [1, 2, \"Max\"]\n",
        "print('my_list before foo():', my_list)\n",
        "foo(my_list)\n",
        "print('my_list after foo():', my_list)"
      ],
      "metadata": {
        "colab": {
          "base_uri": "https://localhost:8080/"
        },
        "id": "_hRceWWnJpOy",
        "outputId": "0e47f877-566a-4a53-91ab-7d21e77656ac"
      },
      "execution_count": 17,
      "outputs": [
        {
          "output_type": "stream",
          "name": "stdout",
          "text": [
            "my_list before foo(): [1, 2, 'Max']\n",
            "my_list after foo(): [-100, 2, 'Paul']\n"
          ]
        }
      ]
    },
    {
      "cell_type": "code",
      "source": [
        "def foo(a_list):\n",
        "    a_list = [50, 60, 70] # a_list is now a new local variable within the function\n",
        "    a_list.append(50)\n",
        "    \n",
        "my_list = [1, 2, 3]\n",
        "print('my_list before foo():', my_list)\n",
        "foo(my_list)\n",
        "print('my_list after foo():', my_list)"
      ],
      "metadata": {
        "colab": {
          "base_uri": "https://localhost:8080/"
        },
        "id": "ljbMpu0kJzIz",
        "outputId": "d44222bf-c75b-4b98-85b4-df48f872aa7a"
      },
      "execution_count": 18,
      "outputs": [
        {
          "output_type": "stream",
          "name": "stdout",
          "text": [
            "my_list before foo(): [1, 2, 3]\n",
            "my_list after foo(): [1, 2, 3]\n"
          ]
        }
      ]
    },
    {
      "cell_type": "code",
      "source": [
        "def foo(a_list):\n",
        "    a_list += [4, 5] # this chanches the outer variable\n",
        "    \n",
        "def bar(a_list):\n",
        "    a_list = a_list + [4, 5] # this rebinds the reference to a new local variable\n",
        "\n",
        "my_list = [1, 2, 3]\n",
        "print('my_list before foo():', my_list)\n",
        "foo(my_list)\n",
        "print('my_list after foo():', my_list)\n",
        "\n",
        "my_list = [1, 2, 3]\n",
        "print('my_list before bar():', my_list)\n",
        "bar(my_list)\n",
        "print('my_list after bar():', my_list)"
      ],
      "metadata": {
        "colab": {
          "base_uri": "https://localhost:8080/"
        },
        "id": "zf35ZhRiJzlx",
        "outputId": "fcda23bc-a3a8-4915-cb8c-9d055e1f2f00"
      },
      "execution_count": 19,
      "outputs": [
        {
          "output_type": "stream",
          "name": "stdout",
          "text": [
            "my_list before foo(): [1, 2, 3]\n",
            "my_list after foo(): [1, 2, 3, 4, 5]\n",
            "my_list before bar(): [1, 2, 3]\n",
            "my_list after bar(): [1, 2, 3]\n"
          ]
        }
      ]
    },
    {
      "cell_type": "markdown",
      "source": [
        "Copying"
      ],
      "metadata": {
        "id": "vPqhxgkGKK3s"
      }
    },
    {
      "cell_type": "code",
      "source": [
        "list_a = [1, 2, 3, 4, 5]\n",
        "list_b = list_a\n",
        "\n",
        "list_a[0] = -10\n",
        "print(list_a)\n",
        "print(list_b)"
      ],
      "metadata": {
        "colab": {
          "base_uri": "https://localhost:8080/"
        },
        "id": "zGU7C9dcJ3DT",
        "outputId": "697b825c-d958-458e-81fe-8837541fa20c"
      },
      "execution_count": 20,
      "outputs": [
        {
          "output_type": "stream",
          "name": "stdout",
          "text": [
            "[-10, 2, 3, 4, 5]\n",
            "[-10, 2, 3, 4, 5]\n"
          ]
        }
      ]
    },
    {
      "cell_type": "code",
      "source": [
        "import copy\n",
        "list_a = [1, 2, 3, 4, 5]\n",
        "list_b = copy.copy(list_a)\n",
        "\n",
        "# not affects the other list\n",
        "list_b[0] = -10\n",
        "print(list_a)\n",
        "print(list_b)"
      ],
      "metadata": {
        "colab": {
          "base_uri": "https://localhost:8080/"
        },
        "id": "LG6JJqETKM5x",
        "outputId": "7c580793-5cb5-4001-fd9e-501dad7959f0"
      },
      "execution_count": 21,
      "outputs": [
        {
          "output_type": "stream",
          "name": "stdout",
          "text": [
            "[1, 2, 3, 4, 5]\n",
            "[-10, 2, 3, 4, 5]\n"
          ]
        }
      ]
    },
    {
      "cell_type": "code",
      "source": [
        "import copy\n",
        "list_a = [[1, 2, 3, 4, 5], [6, 7, 8, 9, 10]]\n",
        "list_b = copy.copy(list_a)\n",
        "\n",
        "# affects the other!\n",
        "list_a[0][0]= -10\n",
        "print(list_a)\n",
        "print(list_b)"
      ],
      "metadata": {
        "colab": {
          "base_uri": "https://localhost:8080/"
        },
        "id": "FH0hO0dmKPMi",
        "outputId": "88798884-1124-4175-832c-3d1ec01743d0"
      },
      "execution_count": 22,
      "outputs": [
        {
          "output_type": "stream",
          "name": "stdout",
          "text": [
            "[[-10, 2, 3, 4, 5], [6, 7, 8, 9, 10]]\n",
            "[[-10, 2, 3, 4, 5], [6, 7, 8, 9, 10]]\n"
          ]
        }
      ]
    },
    {
      "cell_type": "code",
      "source": [
        "# shallow copies\n",
        "list_b = list(list_a)\n",
        "list_b = list_a[:]\n",
        "list_b = list_a.copy()"
      ],
      "metadata": {
        "id": "njzFaT8UKQzZ"
      },
      "execution_count": 23,
      "outputs": []
    },
    {
      "cell_type": "code",
      "source": [
        "import copy\n",
        "list_a = [[1, 2, 3, 4, 5], [6, 7, 8, 9, 10]]\n",
        "list_b = copy.deepcopy(list_a)\n",
        "\n",
        "# not affects the other\n",
        "list_a[0][0]= -10\n",
        "print(list_a)\n",
        "print(list_b)"
      ],
      "metadata": {
        "colab": {
          "base_uri": "https://localhost:8080/"
        },
        "id": "_Xbp0dNsKTGh",
        "outputId": "3b087093-bd55-40ba-d4c9-6638a4e56844"
      },
      "execution_count": 24,
      "outputs": [
        {
          "output_type": "stream",
          "name": "stdout",
          "text": [
            "[[-10, 2, 3, 4, 5], [6, 7, 8, 9, 10]]\n",
            "[[1, 2, 3, 4, 5], [6, 7, 8, 9, 10]]\n"
          ]
        }
      ]
    },
    {
      "cell_type": "code",
      "source": [
        "class Person:\n",
        "    def __init__(self, name, age):\n",
        "        self.name = name\n",
        "        self.age = age\n",
        "                \n",
        "# Only copies the reference\n",
        "p1 = Person('Alex', 27)\n",
        "p2 = p1\n",
        "p2.age = 28\n",
        "print(p1.age)\n",
        "print(p2.age)"
      ],
      "metadata": {
        "colab": {
          "base_uri": "https://localhost:8080/"
        },
        "id": "-7I6oMM6KVA6",
        "outputId": "e8e479da-1c2f-4922-ed1c-0b3841522730"
      },
      "execution_count": 25,
      "outputs": [
        {
          "output_type": "stream",
          "name": "stdout",
          "text": [
            "28\n",
            "28\n"
          ]
        }
      ]
    },
    {
      "cell_type": "code",
      "source": [
        "class Person:\n",
        "    def __init__(self, name, age):\n",
        "        self.name = name\n",
        "        self.age = age\n",
        "                \n",
        "# Only copies the reference\n",
        "p1 = Person('Alex', 27)\n",
        "p2 = p1\n",
        "p2.age = 28\n",
        "print(p1.age)\n",
        "print(p2.age)"
      ],
      "metadata": {
        "colab": {
          "base_uri": "https://localhost:8080/"
        },
        "id": "2K2ga4YCKXNh",
        "outputId": "4e31a3f0-bebf-4bc9-fa95-5f4a7354a7f4"
      },
      "execution_count": 26,
      "outputs": [
        {
          "output_type": "stream",
          "name": "stdout",
          "text": [
            "28\n",
            "28\n"
          ]
        }
      ]
    },
    {
      "cell_type": "code",
      "source": [
        "import copy\n",
        "p1 = Person('Alex', 27)\n",
        "p2 = copy.copy(p1)\n",
        "p2.age = 28\n",
        "print(p1.age)\n",
        "print(p2.age)"
      ],
      "metadata": {
        "colab": {
          "base_uri": "https://localhost:8080/"
        },
        "id": "4eR2DypUKiWg",
        "outputId": "1fa81d5a-8593-49de-f5e2-f144c2ffcd3b"
      },
      "execution_count": 28,
      "outputs": [
        {
          "output_type": "stream",
          "name": "stdout",
          "text": [
            "27\n",
            "28\n"
          ]
        }
      ]
    },
    {
      "cell_type": "code",
      "source": [
        "class Company:\n",
        "    def __init__(self, boss, employee):\n",
        "        self. boss = boss\n",
        "        self.employee = employee\n",
        "\n",
        "# shallow copy will affect nested objects\n",
        "boss = Person('Jane', 55)\n",
        "employee = Person('Joe', 28)\n",
        "company = Company(boss, employee)\n",
        "\n",
        "company_clone = copy.copy(company)\n",
        "company_clone.boss.age = 56\n",
        "print(company.boss.age)\n",
        "print(company_clone.boss.age)\n",
        "\n",
        "print()\n",
        "# deep copy will not affect nested objects\n",
        "boss = Person('Jane', 55)\n",
        "employee = Person('Joe', 28)\n",
        "company = Company(boss, employee)\n",
        "company_clone = copy.deepcopy(company)\n",
        "company_clone.boss.age = 56\n",
        "print(company.boss.age)\n",
        "print(company_clone.boss.age)"
      ],
      "metadata": {
        "colab": {
          "base_uri": "https://localhost:8080/"
        },
        "id": "NVmTJsVaKZ45",
        "outputId": "d9cfa1df-d429-48e4-e563-dfa84ac9af18"
      },
      "execution_count": 27,
      "outputs": [
        {
          "output_type": "stream",
          "name": "stdout",
          "text": [
            "56\n",
            "56\n",
            "\n",
            "55\n",
            "56\n"
          ]
        }
      ]
    },
    {
      "cell_type": "markdown",
      "source": [
        "Context Manager"
      ],
      "metadata": {
        "id": "OQIeib10KpJq"
      }
    },
    {
      "cell_type": "code",
      "source": [
        "with open('notes.txt', 'w') as f:\n",
        "    f.write('some todo...')"
      ],
      "metadata": {
        "id": "ZxvLlovJKdxp"
      },
      "execution_count": 29,
      "outputs": []
    },
    {
      "cell_type": "code",
      "source": [
        "f = open('notes.txt', 'w')\n",
        "try:\n",
        "    f.write('some todo...')\n",
        "finally:\n",
        "    f.close()"
      ],
      "metadata": {
        "id": "5PBARZQGLQHY"
      },
      "execution_count": 30,
      "outputs": []
    },
    {
      "cell_type": "code",
      "source": [
        "class ManagedFile:\n",
        "    def __init__(self, filename):\n",
        "        print('init', filename)\n",
        "        self.filename = filename\n",
        "        \n",
        "    def __enter__(self):\n",
        "        print('enter')\n",
        "        self.file = open(self.filename, 'w')\n",
        "        return self.file\n",
        "        \n",
        "    def __exit__(self, exc_type, exc_value, exc_traceback):\n",
        "        if self.file:\n",
        "            self.file.close()\n",
        "        print('exit')\n",
        "            \n",
        "with ManagedFile('notes.txt') as f:\n",
        "    print('doing stuff...')\n",
        "    f.write('some todo...')"
      ],
      "metadata": {
        "colab": {
          "base_uri": "https://localhost:8080/"
        },
        "id": "wCLIE-IYLSB3",
        "outputId": "4a0b19fd-7430-4a16-b468-ddb24a02d4cc"
      },
      "execution_count": 32,
      "outputs": [
        {
          "output_type": "stream",
          "name": "stdout",
          "text": [
            "init notes.txt\n",
            "enter\n",
            "doing stuff...\n",
            "exit\n"
          ]
        }
      ]
    },
    {
      "cell_type": "code",
      "source": [
        "\n",
        "class ManagedFile:\n",
        "    def __init__(self, filename):\n",
        "        print('init', filename)\n",
        "        self.filename = filename\n",
        "        \n",
        "    def __enter__(self):\n",
        "        print('enter')\n",
        "        self.file = open(self.filename, 'w')\n",
        "        return self.file\n",
        "        \n",
        "    def __exit__(self, exc_type, exc_value, exc_traceback):\n",
        "        if self.file:\n",
        "            self.file.close()\n",
        "        print('exc:', exc_type, exc_value)\n",
        "        print('exit')\n",
        "\n",
        "# No exception\n",
        "with ManagedFile('notes.txt') as f:\n",
        "    print('doing stuff...')\n",
        "    f.write('some todo...')\n",
        "print('continuing...')\n",
        "\n",
        "print()\n",
        "\n",
        "# Exception is raised, but the file can still be closed\n",
        "with ManagedFile('notes2.txt') as f:\n",
        "    print('doing stuff...')\n",
        "    f.write('some todo...')\n",
        "    f.do_something()\n",
        "print('continuing...')"
      ],
      "metadata": {
        "colab": {
          "base_uri": "https://localhost:8080/",
          "height": 425
        },
        "id": "TaAqA5JOLWBQ",
        "outputId": "0b4fadd6-9c7a-40fe-82e0-e47da4497c3f"
      },
      "execution_count": 33,
      "outputs": [
        {
          "output_type": "stream",
          "name": "stdout",
          "text": [
            "init notes.txt\n",
            "enter\n",
            "doing stuff...\n",
            "exc: None None\n",
            "exit\n",
            "continuing...\n",
            "\n",
            "init notes2.txt\n",
            "enter\n",
            "doing stuff...\n",
            "exc: <class 'AttributeError'> '_io.TextIOWrapper' object has no attribute 'do_something'\n",
            "exit\n"
          ]
        },
        {
          "output_type": "error",
          "ename": "AttributeError",
          "evalue": "ignored",
          "traceback": [
            "\u001b[0;31m---------------------------------------------------------------------------\u001b[0m",
            "\u001b[0;31mAttributeError\u001b[0m                            Traceback (most recent call last)",
            "\u001b[0;32m<ipython-input-33-ed1604efb530>\u001b[0m in \u001b[0;36m<module>\u001b[0;34m\u001b[0m\n\u001b[1;32m     27\u001b[0m     \u001b[0mprint\u001b[0m\u001b[0;34m(\u001b[0m\u001b[0;34m'doing stuff...'\u001b[0m\u001b[0;34m)\u001b[0m\u001b[0;34m\u001b[0m\u001b[0;34m\u001b[0m\u001b[0m\n\u001b[1;32m     28\u001b[0m     \u001b[0mf\u001b[0m\u001b[0;34m.\u001b[0m\u001b[0mwrite\u001b[0m\u001b[0;34m(\u001b[0m\u001b[0;34m'some todo...'\u001b[0m\u001b[0;34m)\u001b[0m\u001b[0;34m\u001b[0m\u001b[0;34m\u001b[0m\u001b[0m\n\u001b[0;32m---> 29\u001b[0;31m     \u001b[0mf\u001b[0m\u001b[0;34m.\u001b[0m\u001b[0mdo_something\u001b[0m\u001b[0;34m(\u001b[0m\u001b[0;34m)\u001b[0m\u001b[0;34m\u001b[0m\u001b[0;34m\u001b[0m\u001b[0m\n\u001b[0m\u001b[1;32m     30\u001b[0m \u001b[0mprint\u001b[0m\u001b[0;34m(\u001b[0m\u001b[0;34m'continuing...'\u001b[0m\u001b[0;34m)\u001b[0m\u001b[0;34m\u001b[0m\u001b[0;34m\u001b[0m\u001b[0m\n",
            "\u001b[0;31mAttributeError\u001b[0m: '_io.TextIOWrapper' object has no attribute 'do_something'"
          ]
        }
      ]
    },
    {
      "cell_type": "code",
      "source": [
        "class ManagedFile:\n",
        "    def __init__(self, filename):\n",
        "        print('init', filename)\n",
        "        self.filename = filename\n",
        "        \n",
        "    def __enter__(self):\n",
        "        print('enter')\n",
        "        self.file = open(self.filename, 'w')\n",
        "        return self.file\n",
        "        \n",
        "    def __exit__(self, exc_type, exc_value, exc_traceback):\n",
        "        if self.file:\n",
        "            self.file.close()\n",
        "        if exc_type is not None:\n",
        "            print('Exception has been handled')\n",
        "        print('exit')\n",
        "        return True\n",
        "\n",
        "\n",
        "with ManagedFile('notes2.txt') as f:\n",
        "    print('doing stuff...')\n",
        "    f.write('some todo...')\n",
        "    f.do_something()\n",
        "print('continuing...')"
      ],
      "metadata": {
        "colab": {
          "base_uri": "https://localhost:8080/"
        },
        "id": "bGT2m7O2Lc6g",
        "outputId": "17f2ee88-20c2-40a0-8ca6-488c44dad143"
      },
      "execution_count": 34,
      "outputs": [
        {
          "output_type": "stream",
          "name": "stdout",
          "text": [
            "init notes2.txt\n",
            "enter\n",
            "doing stuff...\n",
            "Exception has been handled\n",
            "exit\n",
            "continuing...\n"
          ]
        }
      ]
    },
    {
      "cell_type": "code",
      "source": [
        "from contextlib import contextmanager\n",
        "\n",
        "@contextmanager\n",
        "def open_managed_file(filename):\n",
        "    f = open(filename, 'w')\n",
        "    try:\n",
        "        yield f\n",
        "    finally:\n",
        "        f.close()\n",
        "        \n",
        "with open_managed_file('notes.txt') as f:\n",
        "    f.write('some todo...')"
      ],
      "metadata": {
        "id": "uqAam7OWLhIw"
      },
      "execution_count": 35,
      "outputs": []
    },
    {
      "cell_type": "markdown",
      "source": [
        "Python Tricks"
      ],
      "metadata": {
        "id": "t9FUW28kLssE"
      }
    },
    {
      "cell_type": "markdown",
      "source": [
        "- Value Swapping"
      ],
      "metadata": {
        "id": "Q5l9vCJoLuWZ"
      }
    },
    {
      "cell_type": "code",
      "source": [
        "a, b = 5, 10\n",
        "print(a, b)\n",
        "a, b = b, a\n",
        "print(a, b)\n",
        "# also possible in a list\n",
        "myList = [1, 2, 3, 4, 5]\n",
        "print(\"Initial list :\", myList)\n",
        "myList[0], myList[1] = myList[1], myList[0]\n",
        "print(\"Modified list:\", myList)"
      ],
      "metadata": {
        "colab": {
          "base_uri": "https://localhost:8080/"
        },
        "id": "IaS6Xo9rLmHA",
        "outputId": "eda85c11-a4f7-4171-a183-e521223abdf2"
      },
      "execution_count": 36,
      "outputs": [
        {
          "output_type": "stream",
          "name": "stdout",
          "text": [
            "5 10\n",
            "10 5\n",
            "Initial list : [1, 2, 3, 4, 5]\n",
            "Modified list: [2, 1, 3, 4, 5]\n"
          ]
        }
      ]
    },
    {
      "cell_type": "markdown",
      "source": [
        "- Create a single string from list"
      ],
      "metadata": {
        "id": "srTsu4_6L1pe"
      }
    },
    {
      "cell_type": "code",
      "source": [
        "my_list = [\"Prateek\", \"is\",\"a\", \"AI Developer\"]\n",
        "\n",
        "# bad\n",
        "a = \"\"\n",
        "for i in my_list:\n",
        "    a += i + \" \"\n",
        "print(a)\n",
        "\n",
        "# good\n",
        "a = \" \".join(my_list)\n",
        "print(a)"
      ],
      "metadata": {
        "colab": {
          "base_uri": "https://localhost:8080/"
        },
        "id": "mm0d3j9jLylo",
        "outputId": "9783cb67-b819-4957-fb8b-fc465f21b494"
      },
      "execution_count": 37,
      "outputs": [
        {
          "output_type": "stream",
          "name": "stdout",
          "text": [
            "Prateek is a AI Developer \n",
            "Prateek is a AI Developer\n"
          ]
        }
      ]
    },
    {
      "cell_type": "code",
      "source": [
        "# join method is much faster\n",
        "from timeit import default_timer as timer\n",
        "my_list = [\"a\"] * 1000000\n",
        "\n",
        "# bad\n",
        "start = timer()\n",
        "a = \"\"\n",
        "for i in my_list:\n",
        "    a += i\n",
        "end = timer()\n",
        "print(end - start)\n",
        "#print(a)\n",
        "\n",
        "# good\n",
        "start = timer()\n",
        "a = \" \".join(my_list)\n",
        "end = timer()\n",
        "print(end - start)\n",
        "#print(a)"
      ],
      "metadata": {
        "colab": {
          "base_uri": "https://localhost:8080/"
        },
        "id": "ult_K0fXMNhT",
        "outputId": "a14ac456-df1b-41ac-f6a7-437a314f7726"
      },
      "execution_count": 38,
      "outputs": [
        {
          "output_type": "stream",
          "name": "stdout",
          "text": [
            "0.19064598699969793\n",
            "0.013705864999792539\n"
          ]
        }
      ]
    },
    {
      "cell_type": "code",
      "source": [
        ""
      ],
      "metadata": {
        "id": "SiOrfw77MRny"
      },
      "execution_count": null,
      "outputs": []
    }
  ]
}